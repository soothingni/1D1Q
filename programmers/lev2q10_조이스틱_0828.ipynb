{
 "cells": [
  {
   "cell_type": "markdown",
   "metadata": {},
   "source": [
    "https://programmers.co.kr/learn/courses/30/lessons/42860"
   ]
  },
  {
   "cell_type": "code",
   "execution_count": 1,
   "metadata": {},
   "outputs": [
    {
     "data": {
      "text/plain": [
       "'abcdefghijklmnopqrstuvwxyz'"
      ]
     },
     "execution_count": 1,
     "metadata": {},
     "output_type": "execute_result"
    }
   ],
   "source": [
    "import string\n",
    "string.ascii_lowercase"
   ]
  },
  {
   "cell_type": "code",
   "execution_count": 2,
   "metadata": {},
   "outputs": [],
   "source": [
    "letters = list(string.ascii_lowercase)"
   ]
  },
  {
   "cell_type": "code",
   "execution_count": 3,
   "metadata": {},
   "outputs": [
    {
     "data": {
      "text/plain": [
       "['a',\n",
       " 'b',\n",
       " 'c',\n",
       " 'd',\n",
       " 'e',\n",
       " 'f',\n",
       " 'g',\n",
       " 'h',\n",
       " 'i',\n",
       " 'j',\n",
       " 'k',\n",
       " 'l',\n",
       " 'm',\n",
       " 'n',\n",
       " 'o',\n",
       " 'p',\n",
       " 'q',\n",
       " 'r',\n",
       " 's',\n",
       " 't',\n",
       " 'u',\n",
       " 'v',\n",
       " 'w',\n",
       " 'x',\n",
       " 'y',\n",
       " 'z']"
      ]
     },
     "execution_count": 3,
     "metadata": {},
     "output_type": "execute_result"
    }
   ],
   "source": [
    "letters"
   ]
  },
  {
   "cell_type": "code",
   "execution_count": 5,
   "metadata": {},
   "outputs": [
    {
     "data": {
      "text/plain": [
       "25"
      ]
     },
     "execution_count": 5,
     "metadata": {},
     "output_type": "execute_result"
    }
   ],
   "source": [
    "letters.index('z')"
   ]
  },
  {
   "cell_type": "code",
   "execution_count": 6,
   "metadata": {},
   "outputs": [
    {
     "data": {
      "text/plain": [
       "'ABCDEFGHIJKLMNOPQRSTUVWXYZ'"
      ]
     },
     "execution_count": 6,
     "metadata": {},
     "output_type": "execute_result"
    }
   ],
   "source": [
    "string.ascii_uppercase"
   ]
  },
  {
   "cell_type": "code",
   "execution_count": 7,
   "metadata": {},
   "outputs": [
    {
     "data": {
      "text/plain": [
       "26"
      ]
     },
     "execution_count": 7,
     "metadata": {},
     "output_type": "execute_result"
    }
   ],
   "source": [
    "len(string.ascii_uppercase)"
   ]
  },
  {
   "cell_type": "code",
   "execution_count": null,
   "metadata": {},
   "outputs": [],
   "source": []
  },
  {
   "cell_type": "code",
   "execution_count": 14,
   "metadata": {},
   "outputs": [],
   "source": [
    "#솔루션1: 63.6점 --> 놓친 게 뭘까?!\n",
    "\n",
    "import string\n",
    "\n",
    "letters = string.ascii_uppercase\n",
    "\n",
    "def solution(name):\n",
    "    answer = 0\n",
    "    name = list(name)\n",
    "    for k in range(len(name)):\n",
    "        cur_letter = name[k]\n",
    "        plain_index = letters.index(cur_letter)\n",
    "        clicks = plain_index if plain_index <= 13 else (26 - plain_index)\n",
    "        answer += clicks\n",
    "        \n",
    "        if k < len(name)/2 and name[k+1] == 'A':\n",
    "            answer += k\n",
    "            \n",
    "        else: answer += 1\n",
    "            \n",
    "    return answer-1"
   ]
  },
  {
   "cell_type": "code",
   "execution_count": 15,
   "metadata": {},
   "outputs": [
    {
     "data": {
      "text/plain": [
       "23"
      ]
     },
     "execution_count": 15,
     "metadata": {},
     "output_type": "execute_result"
    }
   ],
   "source": [
    "solution('JAN')"
   ]
  },
  {
   "cell_type": "code",
   "execution_count": 16,
   "metadata": {},
   "outputs": [
    {
     "data": {
      "text/plain": [
       "56"
      ]
     },
     "execution_count": 16,
     "metadata": {},
     "output_type": "execute_result"
    }
   ],
   "source": [
    "solution(\"JEROEN\")"
   ]
  },
  {
   "cell_type": "markdown",
   "metadata": {},
   "source": [
    "# 탐욕법\n",
    "\n",
    "> greedy algorithm\n",
    "\n",
    "> 최종 결과를 생각하지 않고, 각 단계에서 가장 최선의 선택을 하는 기법.\n",
    "\n",
    "- 동적 프로그래밍(dynamic programming) 사용 시 지나치게 많은 일을 한다는 것에서 착안해 고안된 알고리즘. 상호보완적이다.\n",
    "- 모든 경우에서 최적해를 도출하지는 않지만, 통하는 경우가 몇 가지 있다.\n",
    "\n",
    "(출처: https://www.zerocho.com/category/Algorithm/post/584ba5c9580277001862f188)"
   ]
  },
  {
   "cell_type": "code",
   "execution_count": 20,
   "metadata": {},
   "outputs": [],
   "source": [
    "#솔루션2: 알파벳 간 이동에 필요한 조작 횟수 미리 계산 후 차감하는 방식 --> 63.6\n",
    "\n",
    "import string\n",
    "\n",
    "letters = string.ascii_uppercase\n",
    "\n",
    "def solution(name):\n",
    "    answer = 0\n",
    "    name = list(name)\n",
    "    answer += len(name) - 1\n",
    "    for k in range(len(name)):\n",
    "        cur_letter = name[k]\n",
    "        plain_index = letters.index(cur_letter)\n",
    "        clicks = plain_index if plain_index <= 13 else (26 - plain_index)\n",
    "        answer += clicks\n",
    "        \n",
    "        if k < len(name)/2 and name[k+1] == 'A':\n",
    "            answer += k - 1\n",
    "            \n",
    "    return answer"
   ]
  },
  {
   "cell_type": "code",
   "execution_count": 21,
   "metadata": {},
   "outputs": [
    {
     "data": {
      "text/plain": [
       "56"
      ]
     },
     "execution_count": 21,
     "metadata": {},
     "output_type": "execute_result"
    }
   ],
   "source": [
    "solution('JEROEN')"
   ]
  },
  {
   "cell_type": "code",
   "execution_count": 22,
   "metadata": {
    "scrolled": true
   },
   "outputs": [
    {
     "data": {
      "text/plain": [
       "23"
      ]
     },
     "execution_count": 22,
     "metadata": {},
     "output_type": "execute_result"
    }
   ],
   "source": [
    "solution('JAN')"
   ]
  },
  {
   "cell_type": "code",
   "execution_count": 78,
   "metadata": {},
   "outputs": [
    {
     "data": {
      "text/plain": [
       "[(0, 'A'), (1, 'B'), (2, 'C')]"
      ]
     },
     "execution_count": 78,
     "metadata": {},
     "output_type": "execute_result"
    }
   ],
   "source": [
    "list(enumerate('ABC'))"
   ]
  },
  {
   "cell_type": "code",
   "execution_count": 94,
   "metadata": {},
   "outputs": [],
   "source": [
    "#솔루션3: 72.7\n",
    "\n",
    "import string\n",
    "\n",
    "letters = string.ascii_uppercase\n",
    "\n",
    "def solution(name):\n",
    "    answer = 0\n",
    "    length = len(name)\n",
    "    non_A = [(letters.index(letter), idx) for idx, letter in enumerate(name) if letter != \"A\"]\n",
    "    \n",
    "    print(\"initial non_A: \", non_A)\n",
    "    \n",
    "    cur = non_A.pop(0)\n",
    "    \n",
    "    print(\"initial cur: \", cur)\n",
    "    while True: \n",
    "        letter, idx = cur\n",
    "        clicks = letter if letter <= 13 else (26 - letter)\n",
    "        answer += clicks\n",
    "\n",
    "        if len(non_A) == 0:\n",
    "            break\n",
    "            \n",
    "        elif len(non_A) == 1:\n",
    "            idx1 = non_A[0][1]\n",
    "            forward = abs(idx - idx1)\n",
    "            backward = length - abs(idx-idx1)\n",
    "            clicks = forward if forward <= backward else backward\n",
    "            answer += clicks\n",
    "            cur = non_A.pop()\n",
    "            \n",
    "        else:\n",
    "            idx1 = non_A[0][1]\n",
    "            idx2 = non_A[-1][1]\n",
    "            if min(idx, idx1, idx2) == idx:\n",
    "                forward = abs(idx-idx1)\n",
    "                backward = idx + length -idx2 + 1\n",
    "            else:\n",
    "                forward = length - idx + idx1 + 1\n",
    "                backward = abs(idx-idx2)\n",
    "            \n",
    "            if forward <= backward:\n",
    "                clicks = forward\n",
    "                cur = non_A.pop(0)\n",
    "                print(\"went forward\")\n",
    "            else:\n",
    "                clicks = backward\n",
    "                cur = non_A.pop(-1)\n",
    "                print(\"went backward\")\n",
    "\n",
    "            answer += clicks\n",
    "            \n",
    "        print(\"non_A: \", non_A)\n",
    "        print(\"cur: \", cur)\n",
    "        \n",
    "    return answer"
   ]
  },
  {
   "cell_type": "code",
   "execution_count": 45,
   "metadata": {},
   "outputs": [],
   "source": [
    "index1 = 2\n",
    "index2 = 7\n",
    "length = 7\n",
    "\n",
    "forward = index2-index1\n",
    "backward = length-index2+index1+1"
   ]
  },
  {
   "cell_type": "code",
   "execution_count": 46,
   "metadata": {},
   "outputs": [
    {
     "name": "stdout",
     "output_type": "stream",
     "text": [
      "5 3\n",
      "False\n"
     ]
    }
   ],
   "source": [
    "print(forward, backward)\n",
    "print(forward < backward)"
   ]
  },
  {
   "cell_type": "code",
   "execution_count": 95,
   "metadata": {},
   "outputs": [
    {
     "name": "stdout",
     "output_type": "stream",
     "text": [
      "initial non_A:  [(9, 0), (4, 1), (17, 2), (14, 3), (4, 4), (13, 5)]\n",
      "initial cur:  (9, 0)\n",
      "went forward\n",
      "non_A:  [(17, 2), (14, 3), (4, 4), (13, 5)]\n",
      "cur:  (4, 1)\n",
      "went forward\n",
      "non_A:  [(14, 3), (4, 4), (13, 5)]\n",
      "cur:  (17, 2)\n",
      "went forward\n",
      "non_A:  [(4, 4), (13, 5)]\n",
      "cur:  (14, 3)\n",
      "went forward\n",
      "non_A:  [(13, 5)]\n",
      "cur:  (4, 4)\n",
      "non_A:  []\n",
      "cur:  (13, 5)\n"
     ]
    },
    {
     "data": {
      "text/plain": [
       "56"
      ]
     },
     "execution_count": 95,
     "metadata": {},
     "output_type": "execute_result"
    }
   ],
   "source": [
    "solution('JEROEN')"
   ]
  },
  {
   "cell_type": "code",
   "execution_count": 96,
   "metadata": {
    "scrolled": true
   },
   "outputs": [
    {
     "name": "stdout",
     "output_type": "stream",
     "text": [
      "initial non_A:  [(9, 0), (13, 2)]\n",
      "initial cur:  (9, 0)\n",
      "non_A:  []\n",
      "cur:  (13, 2)\n"
     ]
    },
    {
     "data": {
      "text/plain": [
       "23"
      ]
     },
     "execution_count": 96,
     "metadata": {},
     "output_type": "execute_result"
    }
   ],
   "source": [
    "solution('JAN')"
   ]
  },
  {
   "cell_type": "code",
   "execution_count": 32,
   "metadata": {},
   "outputs": [
    {
     "ename": "IndexError",
     "evalue": "list index out of range",
     "output_type": "error",
     "traceback": [
      "\u001b[0;31m---------------------------------------------------------------------------\u001b[0m",
      "\u001b[0;31mIndexError\u001b[0m                                Traceback (most recent call last)",
      "\u001b[0;32m<ipython-input-32-098076b7e303>\u001b[0m in \u001b[0;36m<module>\u001b[0;34m\u001b[0m\n\u001b[0;32m----> 1\u001b[0;31m \u001b[0msolution\u001b[0m\u001b[0;34m(\u001b[0m\u001b[0;34m'J'\u001b[0m\u001b[0;34m)\u001b[0m\u001b[0;34m\u001b[0m\u001b[0;34m\u001b[0m\u001b[0m\n\u001b[0m",
      "\u001b[0;32m<ipython-input-29-1b4575efaa50>\u001b[0m in \u001b[0;36msolution\u001b[0;34m(name)\u001b[0m\n\u001b[1;32m     15\u001b[0m         \u001b[0manswer\u001b[0m \u001b[0;34m+=\u001b[0m \u001b[0mclicks\u001b[0m\u001b[0;34m\u001b[0m\u001b[0;34m\u001b[0m\u001b[0m\n\u001b[1;32m     16\u001b[0m \u001b[0;34m\u001b[0m\u001b[0m\n\u001b[0;32m---> 17\u001b[0;31m         \u001b[0;32mif\u001b[0m \u001b[0mk\u001b[0m \u001b[0;34m<\u001b[0m \u001b[0;36m1\u001b[0m \u001b[0;32mand\u001b[0m \u001b[0mname\u001b[0m\u001b[0;34m[\u001b[0m\u001b[0mk\u001b[0m\u001b[0;34m+\u001b[0m\u001b[0;36m1\u001b[0m\u001b[0;34m]\u001b[0m \u001b[0;34m==\u001b[0m \u001b[0;34m\"A\"\u001b[0m\u001b[0;34m:\u001b[0m\u001b[0;34m\u001b[0m\u001b[0;34m\u001b[0m\u001b[0m\n\u001b[0m\u001b[1;32m     18\u001b[0m             \u001b[0manswer\u001b[0m \u001b[0;34m+=\u001b[0m \u001b[0mk\u001b[0m \u001b[0;34m-\u001b[0m \u001b[0;36m1\u001b[0m\u001b[0;34m\u001b[0m\u001b[0;34m\u001b[0m\u001b[0m\n\u001b[1;32m     19\u001b[0m \u001b[0;34m\u001b[0m\u001b[0m\n",
      "\u001b[0;31mIndexError\u001b[0m: list index out of range"
     ]
    }
   ],
   "source": [
    "solution('J')"
   ]
  },
  {
   "cell_type": "code",
   "execution_count": 168,
   "metadata": {},
   "outputs": [],
   "source": [
    "#솔루션4: 63.6 퇴보했다 나 운다\n",
    "\n",
    "import string\n",
    "\n",
    "letters = string.ascii_uppercase\n",
    "\n",
    "def single_element(cur, remaining, length):\n",
    "    idx = cur[1]\n",
    "    idx1 = remaining[0][1]\n",
    "    right = abs(idx-idx1)\n",
    "    left = length - abs(idx-idx1)\n",
    "    return right if right <= left else left\n",
    "\n",
    "def multiple_element(cur, remaining, length):\n",
    "    idx = cur[1]\n",
    "    idx1 = remaining[0][1]\n",
    "    idx2 = remaining[-1][1]\n",
    "    \n",
    "    condition  = idx < idx1\n",
    "    \n",
    "    right = idx1-idx if condition else length - idx + idx1\n",
    "    left = idx + length - idx2 if condition else idx - idx2\n",
    "    \n",
    "    if right <= left:\n",
    "        return True, right\n",
    "    \n",
    "    else:\n",
    "        cur = remaining.pop(-1)\n",
    "        return False, left   \n",
    "\n",
    "def solution(name):\n",
    "    answer = 0\n",
    "    length = len(name)\n",
    "    non_A = [(letters.index(letter), idx) for idx, letter in enumerate(name) if letter != \"A\"]\n",
    "    \n",
    "    #처음/마지막 어디서 시작할지\n",
    "    first = non_A[0][1]\n",
    "    last = length - non_A[-1][1] \n",
    "    if first <= last:\n",
    "        cur = non_A.pop(0)\n",
    "        answer += first\n",
    "    else:\n",
    "        cur = non_A.pop(-1)\n",
    "        answer += last\n",
    "        \n",
    "    while True: \n",
    "        letter, idx = cur\n",
    "        \n",
    "        clicks = letter if letter <= 13 else (26 - letter)\n",
    "        answer += clicks\n",
    "\n",
    "        if len(non_A) == 0:\n",
    "            break\n",
    "            \n",
    "        elif len(non_A) == 1:\n",
    "            answer += single_element(cur, non_A, length)\n",
    "            cur = non_A.pop()\n",
    "            \n",
    "        else:\n",
    "            go_right, clicks = multiple_element(cur, non_A, length)\n",
    "            answer += clicks\n",
    "            if go_right:\n",
    "                cur = non_A.pop(0)\n",
    "            else:\n",
    "                cur = non_A.pop(-1)\n",
    "        \n",
    "    return answer"
   ]
  },
  {
   "cell_type": "code",
   "execution_count": 172,
   "metadata": {},
   "outputs": [],
   "source": [
    "def single_element(cur, remaining, length):\n",
    "    idx = cur[1]\n",
    "    idx1 = remaining[0][1]\n",
    "    right = abs(idx-idx1)\n",
    "    left = length - abs(idx-idx1)\n",
    "    return right if right <= left else left\n",
    "\n",
    "def multiple_element(cur, remaining, length):\n",
    "    idx = cur[1]\n",
    "    idx1 = remaining[0][1]\n",
    "    idx2 = remaining[-1][1]\n",
    "    \n",
    "    condition  = idx < idx1\n",
    "    \n",
    "    right = idx1-idx if condition else length - idx + idx1\n",
    "    left = idx + length - idx2 if condition else idx - idx2\n",
    "    \n",
    "    if right <= left:\n",
    "        return True, right\n",
    "    \n",
    "    else:\n",
    "        cur = remaining.pop(-1)\n",
    "        return False, left      "
   ]
  },
  {
   "cell_type": "code",
   "execution_count": 173,
   "metadata": {},
   "outputs": [
    {
     "data": {
      "text/plain": [
       "56"
      ]
     },
     "execution_count": 173,
     "metadata": {},
     "output_type": "execute_result"
    }
   ],
   "source": [
    "solution('JEROEN')"
   ]
  },
  {
   "cell_type": "code",
   "execution_count": 174,
   "metadata": {},
   "outputs": [
    {
     "data": {
      "text/plain": [
       "23"
      ]
     },
     "execution_count": 174,
     "metadata": {},
     "output_type": "execute_result"
    }
   ],
   "source": [
    "solution('JAN')"
   ]
  },
  {
   "cell_type": "code",
   "execution_count": null,
   "metadata": {},
   "outputs": [],
   "source": [
    "#솔루션5:\n",
    "\n",
    "import string\n",
    "\n",
    "letters = string.ascii_uppercase\n",
    "\n",
    "def single_element(cur, remaining, length):\n",
    "    idx = cur[1]\n",
    "    idx1 = remaining[0][1]\n",
    "    right = abs(idx-idx1)\n",
    "    left = length - abs(idx-idx1)\n",
    "    return right if right <= left else left\n",
    "\n",
    "def multiple_element(cur, remaining, length):\n",
    "    idx = cur[1]\n",
    "    idx1 = remaining[0][1]\n",
    "    idx2 = remaining[-1][1]\n",
    "    \n",
    "    condition  = idx < idx1\n",
    "    \n",
    "    right = idx1-idx if condition else length - idx + idx1\n",
    "    left = idx + length - idx2 if condition else idx - idx2\n",
    "    \n",
    "    if right <= left:\n",
    "        return True, right\n",
    "    \n",
    "    else:\n",
    "        cur = remaining.pop(-1)\n",
    "        return False, left   \n",
    "\n",
    "def solution(name):\n",
    "    answer = 0\n",
    "    length = len(name)\n",
    "    non_A = [(letters.index(letter), idx) for idx, letter in enumerate(name) if letter != \"A\"]\n",
    "    \n",
    "    #처음/마지막 어디서 시작할지\n",
    "    first = non_A[0][1]\n",
    "    last = length - non_A[-1][1] \n",
    "    if first <= last:\n",
    "        cur = non_A.pop(0)\n",
    "        answer += first\n",
    "    else:\n",
    "        cur = non_A.pop(-1)\n",
    "        answer += last\n",
    "        \n",
    "    while True: \n",
    "        letter, idx = cur\n",
    "        \n",
    "        clicks = letter if letter <= 13 else (26 - letter)\n",
    "        answer += clicks\n",
    "\n",
    "        if len(non_A) == 0:\n",
    "            break\n",
    "            \n",
    "        elif len(non_A) == 1:\n",
    "            answer += single_element(cur, non_A, length)\n",
    "            cur = non_A.pop()\n",
    "            \n",
    "        else:\n",
    "            go_right, clicks = multiple_element(cur, non_A, length)\n",
    "            answer += clicks\n",
    "            if go_right:\n",
    "                cur = non_A.pop(0)\n",
    "            else:\n",
    "                cur = non_A.pop(-1)\n",
    "        \n",
    "    return answer"
   ]
  }
 ],
 "metadata": {
  "kernelspec": {
   "display_name": "Python 3",
   "language": "python",
   "name": "python3"
  },
  "language_info": {
   "codemirror_mode": {
    "name": "ipython",
    "version": 3
   },
   "file_extension": ".py",
   "mimetype": "text/x-python",
   "name": "python",
   "nbconvert_exporter": "python",
   "pygments_lexer": "ipython3",
   "version": "3.7.5"
  }
 },
 "nbformat": 4,
 "nbformat_minor": 2
}
