{
 "cells": [
  {
   "cell_type": "code",
   "execution_count": 22,
   "metadata": {},
   "outputs": [],
   "source": [
    "#솔루션 1: 통과\n",
    "\n",
    "def solution(skill, skill_trees):\n",
    "    answer = 0\n",
    "    chars_in_point = list(skill)  #skill을 char 단위로 스플릿한 리스트\n",
    "    for item in skill_trees:\n",
    "        \n",
    "        #skill_trees에 있는 스킬트리 중 skill에 포함된 알파벳의 인덱스를 리스트 형태로 저장\n",
    "        index_list = [ chars_in_point.index(x) for x in list(item) if x in chars_in_point ]\n",
    "        \n",
    "        cond1 = index_list == sorted(index_list)\n",
    "        cond2 = sorted(index_list) == list(range(len(index_list)))\n",
    "        \n",
    "        if cond1 and cond2 :\n",
    "            answer += 1\n",
    "            print(item)\n",
    "    return answer"
   ]
  },
  {
   "cell_type": "code",
   "execution_count": 23,
   "metadata": {},
   "outputs": [
    {
     "name": "stdout",
     "output_type": "stream",
     "text": [
      "CBADF\n",
      "AECB\n"
     ]
    },
    {
     "data": {
      "text/plain": [
       "2"
      ]
     },
     "execution_count": 23,
     "metadata": {},
     "output_type": "execute_result"
    }
   ],
   "source": [
    "solution(\"CBD\", [\"BACDE\", \"CBADF\", \"AECB\", \"BDA\"])"
   ]
  },
  {
   "cell_type": "code",
   "execution_count": null,
   "metadata": {},
   "outputs": [],
   "source": [
    "#다른 사람의 풀이\n",
    "\n",
    "def solution(skill, skill_trees):\n",
    "    answer = 0\n",
    "\n",
    "    for skills in skill_trees:\n",
    "        skill_list = list(skill)\n",
    "\n",
    "        for s in skills:     #for-else문을 사용했다\n",
    "            if s in skill:\n",
    "                if s != skill_list.pop(0):\n",
    "                    break\n",
    "        else:\n",
    "            answer += 1\n",
    "\n",
    "    return answer"
   ]
  },
  {
   "cell_type": "markdown",
   "metadata": {},
   "source": [
    "### for-else 문\n",
    "\n",
    "> for문과 같은 레벨에 else를 둬서 break없이 빠져나온 경우를 처리하는 방법\n",
    "\n",
    "(출처: http://pyengine.blogspot.com/2019/12/for-else.html_"
   ]
  },
  {
   "cell_type": "code",
   "execution_count": 24,
   "metadata": {},
   "outputs": [
    {
     "name": "stdout",
     "output_type": "stream",
     "text": [
      "loop out\n"
     ]
    }
   ],
   "source": [
    "for x in range(4):\n",
    "    if x == 2:\n",
    "    print ('loop out')\n",
    "    break\n",
    "else:\n",
    "    print ('loop end')"
   ]
  },
  {
   "cell_type": "code",
   "execution_count": 25,
   "metadata": {},
   "outputs": [
    {
     "name": "stdout",
     "output_type": "stream",
     "text": [
      "loop end\n"
     ]
    }
   ],
   "source": [
    "for x in range(4):\n",
    "  # nop\n",
    "  pass\n",
    "else:\n",
    "    print ('loop end')"
   ]
  },
  {
   "cell_type": "code",
   "execution_count": null,
   "metadata": {},
   "outputs": [],
   "source": []
  }
 ],
 "metadata": {
  "kernelspec": {
   "display_name": "Python 3",
   "language": "python",
   "name": "python3"
  },
  "language_info": {
   "codemirror_mode": {
    "name": "ipython",
    "version": 3
   },
   "file_extension": ".py",
   "mimetype": "text/x-python",
   "name": "python",
   "nbconvert_exporter": "python",
   "pygments_lexer": "ipython3",
   "version": "3.7.5"
  }
 },
 "nbformat": 4,
 "nbformat_minor": 2
}
