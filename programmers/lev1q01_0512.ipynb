{
 "cells": [
  {
   "cell_type": "markdown",
   "metadata": {},
   "source": [
    "https://programmers.co.kr/learn/courses/30/lessons/64061#"
   ]
  },
  {
   "cell_type": "code",
   "execution_count": 43,
   "metadata": {},
   "outputs": [],
   "source": [
    "#솔루션1: 통과\n",
    "\n",
    "def solution(board, moves):\n",
    "    answer = 0\n",
    "    bucket = []\n",
    "    for move in moves:\n",
    "        selected_column = [(board.index(row), row[move-1]) for row in board if row[move-1] != 0]\n",
    "#         print(\"selected column: \", selected_column)\n",
    "        if selected_column != []:\n",
    "            doll = selected_column[0][-1]\n",
    "#             print(\"doll: \", doll)\n",
    "            if bucket != [] and bucket[-1] == doll:\n",
    "                bucket.pop(-1)\n",
    "                answer += 2\n",
    "            else:bucket.append(doll)\n",
    "            board[selected_column[0][0]][move-1] = 0\n",
    "#             print(\"bucket: \", bucket)\n",
    "#             print(\"board: \", board)\n",
    "    return answer"
   ]
  },
  {
   "cell_type": "code",
   "execution_count": 44,
   "metadata": {},
   "outputs": [
    {
     "name": "stdout",
     "output_type": "stream",
     "text": [
      "selected column:  [(3, 4), (4, 3)]\n",
      "doll:  4\n",
      "bucket:  [4]\n",
      "board:  [[0, 0, 0, 0, 0], [0, 0, 1, 0, 3], [0, 2, 5, 0, 1], [0, 2, 4, 4, 2], [3, 5, 1, 3, 1]]\n",
      "selected column:  [(1, 3), (2, 1), (3, 2), (4, 1)]\n",
      "doll:  3\n",
      "bucket:  [4, 3]\n",
      "board:  [[0, 0, 0, 0, 0], [0, 0, 1, 0, 0], [0, 2, 5, 0, 1], [0, 2, 4, 4, 2], [3, 5, 1, 3, 1]]\n",
      "selected column:  [(1, 1), (2, 5), (3, 4), (4, 1)]\n",
      "doll:  1\n",
      "bucket:  [4, 3, 1]\n",
      "board:  [[0, 0, 0, 0, 0], [0, 0, 0, 0, 0], [0, 2, 5, 0, 1], [0, 2, 4, 4, 2], [3, 5, 1, 3, 1]]\n",
      "selected column:  [(2, 1), (3, 2), (4, 1)]\n",
      "doll:  1\n",
      "bucket:  [4, 3]\n",
      "board:  [[0, 0, 0, 0, 0], [0, 0, 0, 0, 0], [0, 2, 5, 0, 0], [0, 2, 4, 4, 2], [3, 5, 1, 3, 1]]\n",
      "selected column:  [(4, 3)]\n",
      "doll:  3\n",
      "bucket:  [4]\n",
      "board:  [[0, 0, 0, 0, 0], [0, 0, 0, 0, 0], [0, 2, 5, 0, 0], [0, 2, 4, 4, 2], [0, 5, 1, 3, 1]]\n",
      "selected column:  [(2, 2), (3, 2), (4, 5)]\n",
      "doll:  2\n",
      "bucket:  [4, 2]\n",
      "board:  [[0, 0, 0, 0, 0], [0, 0, 0, 0, 0], [0, 0, 5, 0, 0], [0, 2, 4, 4, 2], [0, 5, 1, 3, 1]]\n",
      "selected column:  []\n",
      "selected column:  [(3, 4), (4, 3)]\n",
      "doll:  4\n",
      "bucket:  [4, 2, 4]\n",
      "board:  [[0, 0, 0, 0, 0], [0, 0, 0, 0, 0], [0, 0, 5, 0, 0], [0, 2, 4, 0, 2], [0, 5, 1, 3, 1]]\n"
     ]
    },
    {
     "data": {
      "text/plain": [
       "4"
      ]
     },
     "execution_count": 44,
     "metadata": {},
     "output_type": "execute_result"
    }
   ],
   "source": [
    "solution([[0,0,0,0,0],[0,0,1,0,3],[0,2,5,0,1],[4,2,4,4,2],[3,5,1,3,1]], [1,5,3,5,1,2,1,4])"
   ]
  },
  {
   "cell_type": "code",
   "execution_count": null,
   "metadata": {},
   "outputs": [],
   "source": []
  }
 ],
 "metadata": {
  "kernelspec": {
   "display_name": "Python 3",
   "language": "python",
   "name": "python3"
  },
  "language_info": {
   "codemirror_mode": {
    "name": "ipython",
    "version": 3
   },
   "file_extension": ".py",
   "mimetype": "text/x-python",
   "name": "python",
   "nbconvert_exporter": "python",
   "pygments_lexer": "ipython3",
   "version": "3.7.5"
  }
 },
 "nbformat": 4,
 "nbformat_minor": 2
}
