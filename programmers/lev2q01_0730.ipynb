{
 "cells": [
  {
   "cell_type": "markdown",
   "metadata": {},
   "source": [
    "https://programmers.co.kr/learn/courses/30/lessons/12899"
   ]
  },
  {
   "cell_type": "code",
   "execution_count": 56,
   "metadata": {},
   "outputs": [],
   "source": [
    "digits = [1, 2, 4]"
   ]
  },
  {
   "cell_type": "code",
   "execution_count": 95,
   "metadata": {},
   "outputs": [],
   "source": [
    "pows = [4**x for x in range(15)]"
   ]
  },
  {
   "cell_type": "code",
   "execution_count": 96,
   "metadata": {},
   "outputs": [],
   "source": [
    "pows.sort(reverse = True)"
   ]
  },
  {
   "cell_type": "code",
   "execution_count": 97,
   "metadata": {},
   "outputs": [
    {
     "data": {
      "text/plain": [
       "[268435456,\n",
       " 67108864,\n",
       " 16777216,\n",
       " 4194304,\n",
       " 1048576,\n",
       " 262144,\n",
       " 65536,\n",
       " 16384,\n",
       " 4096,\n",
       " 1024,\n",
       " 256,\n",
       " 64,\n",
       " 16,\n",
       " 4,\n",
       " 1]"
      ]
     },
     "execution_count": 97,
     "metadata": {},
     "output_type": "execute_result"
    }
   ],
   "source": [
    "pows"
   ]
  },
  {
   "cell_type": "code",
   "execution_count": 110,
   "metadata": {},
   "outputs": [],
   "source": [
    "num = 4"
   ]
  },
  {
   "cell_type": "code",
   "execution_count": 111,
   "metadata": {},
   "outputs": [],
   "source": [
    "pows_dict = {}\n",
    "for n in pows:\n",
    "    if n <= num:\n",
    "        pows_dict[len(pows) - pows.index(n)-1] = num // n\n",
    "        num = num % n\n",
    "    else:\n",
    "        pows_dict[len(pows) - pows.index(n)-1] = 0"
   ]
  },
  {
   "cell_type": "code",
   "execution_count": 112,
   "metadata": {},
   "outputs": [
    {
     "data": {
      "text/plain": [
       "{14: 0,\n",
       " 13: 0,\n",
       " 12: 0,\n",
       " 11: 0,\n",
       " 10: 0,\n",
       " 9: 0,\n",
       " 8: 0,\n",
       " 7: 0,\n",
       " 6: 0,\n",
       " 5: 0,\n",
       " 4: 0,\n",
       " 3: 0,\n",
       " 2: 0,\n",
       " 1: 1,\n",
       " 0: 0}"
      ]
     },
     "execution_count": 112,
     "metadata": {},
     "output_type": "execute_result"
    }
   ],
   "source": [
    "pows_dict"
   ]
  },
  {
   "cell_type": "code",
   "execution_count": 113,
   "metadata": {},
   "outputs": [],
   "source": [
    "answer = ''\n",
    "for key, value in pows_dict.items():\n",
    "    if answer == \"\" and value != 0:\n",
    "        answer += str(digits[value-1])\n",
    "    if answer != \"\" and value == 0:\n",
    "        answer += \"1\""
   ]
  },
  {
   "cell_type": "code",
   "execution_count": 114,
   "metadata": {},
   "outputs": [
    {
     "data": {
      "text/plain": [
       "'11'"
      ]
     },
     "execution_count": 114,
     "metadata": {},
     "output_type": "execute_result"
    }
   ],
   "source": [
    "answer"
   ]
  },
  {
   "cell_type": "code",
   "execution_count": null,
   "metadata": {},
   "outputs": [],
   "source": [
    "#솔루션 1: 0점\n",
    "\n",
    "def solution(n):\n",
    "    digits = [1, 2, 4]\n",
    "    pows = [4**x for x in range(19)]\n",
    "    pows.sort(reverse = True)\n",
    "    pows_dict = {}\n",
    "    for num in pows:\n",
    "        if num <= n:\n",
    "            pows_dict[len(pows) - pows.index(num)-1] = n // num\n",
    "            n = n % num\n",
    "        else:\n",
    "            pows_dict[len(pows) - pows.index(num)-1] = 0\n",
    "    answer = \"\"\n",
    "    for key, value in pows_dict.items():\n",
    "        if answer == \"\" and value != 0:\n",
    "            answer += str(digits[value-1])\n",
    "        if answer != \"\" and value == 0:\n",
    "            answer += \"1\"\n",
    "    return answer"
   ]
  },
  {
   "cell_type": "code",
   "execution_count": null,
   "metadata": {},
   "outputs": [],
   "source": [
    "def convert(n, base):\n",
    "    T = \"0123456789ABCDEF\"\n",
    "    q, r = divmod(n, base)\n",
    "    if q == 0:\n",
    "        return T[r]\n",
    "    else:\n",
    "        return convert(q, base) + T[r]"
   ]
  },
  {
   "cell_type": "code",
   "execution_count": 25,
   "metadata": {},
   "outputs": [],
   "source": [
    "#솔루션 2: 통과!\n",
    "\n",
    "def solution(n):\n",
    "    digits = '124'\n",
    "    q, r = divmod(n-1, 3)\n",
    "    if q == 0:\n",
    "        return digits[r]\n",
    "    else:\n",
    "        return solution(q) + digits[r]\n"
   ]
  },
  {
   "cell_type": "code",
   "execution_count": 2,
   "metadata": {},
   "outputs": [],
   "source": [
    "digits = '124'"
   ]
  },
  {
   "cell_type": "code",
   "execution_count": 3,
   "metadata": {},
   "outputs": [
    {
     "data": {
      "text/plain": [
       "(0, 3)"
      ]
     },
     "execution_count": 3,
     "metadata": {},
     "output_type": "execute_result"
    }
   ],
   "source": [
    "#몫과 나머지를 구해주는 함수\n",
    "divmod(3, 4)"
   ]
  },
  {
   "cell_type": "code",
   "execution_count": 4,
   "metadata": {},
   "outputs": [
    {
     "data": {
      "text/plain": [
       "(75, 0)"
      ]
     },
     "execution_count": 4,
     "metadata": {},
     "output_type": "execute_result"
    }
   ],
   "source": [
    "divmod(300, 4)"
   ]
  },
  {
   "cell_type": "markdown",
   "metadata": {},
   "source": [
    "후엥~~~~~"
   ]
  },
  {
   "cell_type": "code",
   "execution_count": 28,
   "metadata": {},
   "outputs": [
    {
     "data": {
      "text/plain": [
       "'14'"
      ]
     },
     "execution_count": 28,
     "metadata": {},
     "output_type": "execute_result"
    }
   ],
   "source": [
    "solution(6)"
   ]
  },
  {
   "cell_type": "code",
   "execution_count": null,
   "metadata": {},
   "outputs": [],
   "source": []
  },
  {
   "cell_type": "code",
   "execution_count": null,
   "metadata": {},
   "outputs": [],
   "source": []
  }
 ],
 "metadata": {
  "kernelspec": {
   "display_name": "Python 3",
   "language": "python",
   "name": "python3"
  },
  "language_info": {
   "codemirror_mode": {
    "name": "ipython",
    "version": 3
   },
   "file_extension": ".py",
   "mimetype": "text/x-python",
   "name": "python",
   "nbconvert_exporter": "python",
   "pygments_lexer": "ipython3",
   "version": "3.7.5"
  }
 },
 "nbformat": 4,
 "nbformat_minor": 2
}
