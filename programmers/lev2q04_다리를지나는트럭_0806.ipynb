{
 "cells": [
  {
   "cell_type": "markdown",
   "metadata": {},
   "source": [
    "https://programmers.co.kr/learn/courses/30/lessons/42583"
   ]
  },
  {
   "cell_type": "code",
   "execution_count": null,
   "metadata": {},
   "outputs": [],
   "source": [
    "#솔루션1: \n",
    "\n",
    "from collections import deque\n",
    "\n",
    "def solution(bridge_length, weight, truck_weights):\n",
    "    answer = 0\n",
    "    on_bridge = deque()\n",
    "    trucks_in_line = deque(truck_weights)\n",
    "    while len(trucks_in_line) != 0:\n",
    "        next_in_line = trucks_in_line.popleft()\n",
    "        if sum(on_bridge) + next_in_line < weight:\n",
    "            on_bridge.append(next_in_line)\n",
    "        else:\n",
    "            \n",
    "        answer += 1\n",
    "    return answer"
   ]
  }
 ],
 "metadata": {
  "kernelspec": {
   "display_name": "Python 3",
   "language": "python",
   "name": "python3"
  },
  "language_info": {
   "codemirror_mode": {
    "name": "ipython",
    "version": 3
   },
   "file_extension": ".py",
   "mimetype": "text/x-python",
   "name": "python",
   "nbconvert_exporter": "python",
   "pygments_lexer": "ipython3",
   "version": "3.7.5"
  }
 },
 "nbformat": 4,
 "nbformat_minor": 2
}
