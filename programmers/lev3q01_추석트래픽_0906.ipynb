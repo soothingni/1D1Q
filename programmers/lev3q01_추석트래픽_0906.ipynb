{
 "cells": [
  {
   "cell_type": "markdown",
   "metadata": {},
   "source": [
    "https://programmers.co.kr/learn/courses/30/lessons/17676"
   ]
  },
  {
   "cell_type": "code",
   "execution_count": 1,
   "metadata": {},
   "outputs": [],
   "source": [
    "import datetime"
   ]
  },
  {
   "cell_type": "code",
   "execution_count": 20,
   "metadata": {},
   "outputs": [
    {
     "data": {
      "text/plain": [
       "datetime.datetime(2016, 9, 15, 20, 59, 56, 800344)"
      ]
     },
     "execution_count": 20,
     "metadata": {},
     "output_type": "execute_result"
    }
   ],
   "source": [
    "a = datetime.datetime(2016, 9, 15, 20, 59, 57, 344)\n",
    "b = datetime.timedelta(seconds=0.2)\n",
    "a - b"
   ]
  },
  {
   "cell_type": "code",
   "execution_count": 23,
   "metadata": {},
   "outputs": [
    {
     "data": {
      "text/plain": [
       "datetime.datetime(2016, 9, 15, 20, 59, 57, 421000)"
      ]
     },
     "execution_count": 23,
     "metadata": {},
     "output_type": "execute_result"
    }
   ],
   "source": [
    "datetime.datetime.strptime(\"2016-09-15 20:59:57.421\", '%Y-%m-%d %H:%M:%S.%f')"
   ]
  },
  {
   "cell_type": "code",
   "execution_count": 21,
   "metadata": {},
   "outputs": [],
   "source": [
    "map?"
   ]
  },
  {
   "cell_type": "code",
   "execution_count": 133,
   "metadata": {},
   "outputs": [],
   "source": [
    "#솔루션1: 초 단위로 풀어서 틀렸다.\n",
    "\n",
    "from datetime import datetime, timedelta\n",
    "\n",
    "def get_start_time(end_time, sec):\n",
    "    start_time = end_time - timedelta(seconds = sec)\n",
    "    return start_time\n",
    "\n",
    "def solution(lines):\n",
    "    time_dict = dict()\n",
    "    for line in lines:\n",
    "        date, end_time, sec = line.split()\n",
    "        end_time = ' '.join([date, end_time])\n",
    "        end_time = datetime.strptime(end_time, '%Y-%m-%d %H:%M:%S.%f')\n",
    "        sec = float(sec.strip('s'))\n",
    "        start_time = get_start_time(end_time, sec)\n",
    "        \n",
    "        \n",
    "        start_time = start_time.replace(microsecond=0) #밀리세컨드 없애기\n",
    "        end_time = end_time.replace(microsecond=0)\n",
    "        \n",
    "        \n",
    "        for i in range((end_time - start_time).seconds+1):\n",
    "            key = start_time + timedelta(seconds = i)\n",
    "            key = datetime.strftime(key, '%Y-%m-%d %H:%M:%S')\n",
    "            if key in time_dict:\n",
    "                time_dict[key] += 1\n",
    "            else:\n",
    "                time_dict[key] = 1\n",
    "    \n",
    "    return max(time_dict.values())"
   ]
  },
  {
   "cell_type": "code",
   "execution_count": 134,
   "metadata": {},
   "outputs": [
    {
     "data": {
      "text/plain": [
       "6"
      ]
     },
     "execution_count": 134,
     "metadata": {},
     "output_type": "execute_result"
    }
   ],
   "source": [
    "solution([\n",
    "\"2016-09-15 20:59:57.421 0.351s\",\n",
    "\"2016-09-15 20:59:58.233 1.181s\",\n",
    "\"2016-09-15 20:59:58.299 0.8s\",\n",
    "\"2016-09-15 20:59:58.688 1.041s\",\n",
    "\"2016-09-15 20:59:59.591 1.412s\",\n",
    "\"2016-09-15 21:00:00.464 1.466s\",\n",
    "\"2016-09-15 21:00:00.741 1.581s\",\n",
    "\"2016-09-15 21:00:00.748 2.31s\",\n",
    "\"2016-09-15 21:00:00.966 0.381s\",\n",
    "\"2016-09-15 21:00:02.066 2.62s\"\n",
    "])"
   ]
  },
  {
   "cell_type": "markdown",
   "metadata": {},
   "source": [
    "7 나와야한다."
   ]
  },
  {
   "cell_type": "code",
   "execution_count": 166,
   "metadata": {},
   "outputs": [],
   "source": [
    "#솔루션2: 통과\n",
    "\n",
    "from datetime import datetime, timedelta\n",
    "\n",
    "def get_start_time(end_time, sec):\n",
    "    start_time = end_time - timedelta(seconds = sec)\n",
    "    return start_time\n",
    "\n",
    "def check_in_or_out(start_time, end_time, gugan_start, gugan_end):\n",
    "    \n",
    "    cond1 = (start_time <= gugan_start) and (gugan_end <= end_time)\n",
    "    cond2 = gugan_start <= start_time < gugan_end\n",
    "    cond3 = gugan_start < end_time <= gugan_end\n",
    "    \n",
    "    if cond1 or cond2 or cond3:\n",
    "        return True\n",
    "    else:\n",
    "        \n",
    "        return False\n",
    "\n",
    "def solution(lines):\n",
    "    log_start_end = []\n",
    "    for line in lines:\n",
    "        date, end_time, sec = line.split()\n",
    "        end_time = ' '.join([date, end_time])\n",
    "        end_time = datetime.strptime(end_time, '%Y-%m-%d %H:%M:%S.%f')\n",
    "        sec = float(sec.strip('s'))\n",
    "        start_time = get_start_time(end_time, sec)\n",
    "        \n",
    "        log_start_end.append((start_time, end_time))\n",
    "    \n",
    "    cur_answer = 0\n",
    "    \n",
    "    for _, end in log_start_end:\n",
    "        gugan_start = end - timedelta(microseconds=1000)\n",
    "        gugan_end = gugan_start + timedelta(seconds = 1)\n",
    "        temp = 0\n",
    "        for start_time, end_time in log_start_end:\n",
    "            if check_in_or_out(start_time, end_time, gugan_start, gugan_end) == True:\n",
    "                temp += 1\n",
    "            else:\n",
    "                continue\n",
    "            if temp > cur_answer: cur_answer = temp\n",
    "                \n",
    "    return cur_answer"
   ]
  },
  {
   "cell_type": "code",
   "execution_count": 167,
   "metadata": {},
   "outputs": [
    {
     "data": {
      "text/plain": [
       "7"
      ]
     },
     "execution_count": 167,
     "metadata": {},
     "output_type": "execute_result"
    }
   ],
   "source": [
    "solution([\n",
    "\"2016-09-15 20:59:57.421 0.351s\",\n",
    "\"2016-09-15 20:59:58.233 1.181s\",\n",
    "\"2016-09-15 20:59:58.299 0.8s\",\n",
    "\"2016-09-15 20:59:58.688 1.041s\",\n",
    "\"2016-09-15 20:59:59.591 1.412s\",\n",
    "\"2016-09-15 21:00:00.464 1.466s\",\n",
    "\"2016-09-15 21:00:00.741 1.581s\",\n",
    "\"2016-09-15 21:00:00.748 2.31s\",\n",
    "\"2016-09-15 21:00:00.966 0.381s\",\n",
    "\"2016-09-15 21:00:02.066 2.62s\"\n",
    "])"
   ]
  },
  {
   "cell_type": "code",
   "execution_count": 168,
   "metadata": {},
   "outputs": [
    {
     "data": {
      "text/plain": [
       "1"
      ]
     },
     "execution_count": 168,
     "metadata": {},
     "output_type": "execute_result"
    }
   ],
   "source": [
    "solution([\"2016-09-15 01:00:04.001 2.0s\", \"2016-09-15 01:00:07.000 2s\"])"
   ]
  },
  {
   "cell_type": "markdown",
   "metadata": {},
   "source": [
    "대소 비교에서 등호 들어가느냐 마느냐가 중요했다!!!!!!"
   ]
  },
  {
   "cell_type": "code",
   "execution_count": null,
   "metadata": {},
   "outputs": [],
   "source": []
  },
  {
   "cell_type": "code",
   "execution_count": null,
   "metadata": {},
   "outputs": [],
   "source": [
    "#다른 사람 풀이\n",
    "def solution(lines):\n",
    "\n",
    "    #get input\n",
    "    S , E= [], [] \n",
    "    totalLines = 0 \n",
    "    for line in lines:\n",
    "        totalLines += 1\n",
    "        type(line)\n",
    "        (d,s,t) = line.split(\" \")\n",
    "\n",
    "       ##time to float\n",
    "        t = float(t[0:-1])\n",
    "        (hh, mm, ss) = s.split(\":\")\n",
    "        seconds = float(hh) * 3600 + float(mm) * 60 + float(ss)\n",
    "\n",
    "        E.append(seconds + 1)\n",
    "        S.append(seconds - t + 0.001)\n",
    "\n",
    "    #count the maxTraffic\n",
    "    S.sort()\n",
    "\n",
    "    curTraffic = 0\n",
    "    maxTraffic = 0\n",
    "    countE = 0\n",
    "    countS = 0\n",
    "    while((countE < totalLines) & (countS < totalLines)):\n",
    "        if(S[countS] < E[countE]):\n",
    "            curTraffic += 1\n",
    "            maxTraffic = max(maxTraffic, curTraffic)\n",
    "            countS += 1\n",
    "        else: ## it means that a line is over.\n",
    "            curTraffic -= 1\n",
    "            countE += 1\n",
    "\n",
    "    return maxTraffic"
   ]
  }
 ],
 "metadata": {
  "kernelspec": {
   "display_name": "Python 3",
   "language": "python",
   "name": "python3"
  },
  "language_info": {
   "codemirror_mode": {
    "name": "ipython",
    "version": 3
   },
   "file_extension": ".py",
   "mimetype": "text/x-python",
   "name": "python",
   "nbconvert_exporter": "python",
   "pygments_lexer": "ipython3",
   "version": "3.7.5"
  }
 },
 "nbformat": 4,
 "nbformat_minor": 2
}
