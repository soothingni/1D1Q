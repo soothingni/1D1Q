{
 "cells": [
  {
   "cell_type": "markdown",
   "metadata": {},
   "source": [
    "https://programmers.co.kr/learn/courses/30/lessons/42586"
   ]
  },
  {
   "cell_type": "code",
   "execution_count": 1,
   "metadata": {},
   "outputs": [],
   "source": [
    "p = [93, 30, 55]\n",
    "s = [1, 30, 5]\n",
    "\n",
    "ps = zip(p, s)"
   ]
  },
  {
   "cell_type": "code",
   "execution_count": 2,
   "metadata": {},
   "outputs": [
    {
     "data": {
      "text/plain": [
       "<zip at 0x104695dc0>"
      ]
     },
     "execution_count": 2,
     "metadata": {},
     "output_type": "execute_result"
    }
   ],
   "source": [
    "ps"
   ]
  },
  {
   "cell_type": "code",
   "execution_count": 3,
   "metadata": {},
   "outputs": [
    {
     "data": {
      "text/plain": [
       "[(93, 1), (30, 30), (55, 5)]"
      ]
     },
     "execution_count": 3,
     "metadata": {},
     "output_type": "execute_result"
    }
   ],
   "source": [
    "list(ps)"
   ]
  },
  {
   "cell_type": "code",
   "execution_count": 34,
   "metadata": {},
   "outputs": [],
   "source": [
    "ps_pair = list(zip(p, s))\n",
    "days = [ceil((100-p)/s) for (p, s) in ps_pair]"
   ]
  },
  {
   "cell_type": "code",
   "execution_count": 35,
   "metadata": {},
   "outputs": [
    {
     "data": {
      "text/plain": [
       "[7, 3, 9]"
      ]
     },
     "execution_count": 35,
     "metadata": {},
     "output_type": "execute_result"
    }
   ],
   "source": [
    "days"
   ]
  },
  {
   "cell_type": "code",
   "execution_count": 36,
   "metadata": {},
   "outputs": [],
   "source": [
    "round?"
   ]
  },
  {
   "cell_type": "code",
   "execution_count": 37,
   "metadata": {},
   "outputs": [],
   "source": [
    "from math import ceil\n",
    "ceil?"
   ]
  },
  {
   "cell_type": "code",
   "execution_count": 38,
   "metadata": {},
   "outputs": [],
   "source": [
    "from collections import deque"
   ]
  },
  {
   "cell_type": "code",
   "execution_count": 39,
   "metadata": {},
   "outputs": [],
   "source": [
    "days = deque(days)"
   ]
  },
  {
   "cell_type": "code",
   "execution_count": 40,
   "metadata": {},
   "outputs": [
    {
     "name": "stdout",
     "output_type": "stream",
     "text": [
      "deque([3, 9])\n",
      "deque([])\n"
     ]
    }
   ],
   "source": [
    "answer = []\n",
    "while len(days) != 0:\n",
    "    count = 1\n",
    "    cur = days.popleft()\n",
    "    print(days)\n",
    "    while len(days) != 0 and cur > days[0]:\n",
    "        days.popleft()\n",
    "        count += 1\n",
    "    answer.append(count)"
   ]
  },
  {
   "cell_type": "code",
   "execution_count": 41,
   "metadata": {},
   "outputs": [
    {
     "data": {
      "text/plain": [
       "[2, 1]"
      ]
     },
     "execution_count": 41,
     "metadata": {},
     "output_type": "execute_result"
    }
   ],
   "source": [
    "answer"
   ]
  },
  {
   "cell_type": "code",
   "execution_count": 43,
   "metadata": {},
   "outputs": [],
   "source": [
    "#솔루션1: 틀렸습니다 (63.6)\n",
    "\n",
    "from collections import deque\n",
    "from math import ceil\n",
    "\n",
    "def solution(progresses, speeds):\n",
    "    ps_pair = list(zip(progresses, speeds))\n",
    "    days = deque([ceil((100-p)/s) for (p, s) in ps_pair])\n",
    "    answer = []\n",
    "    while len(days) != 0:\n",
    "        count = 1\n",
    "        cur = days.popleft()\n",
    "#         print(days)\n",
    "        while len(days) != 0 and cur > days[0]:\n",
    "            days.popleft()\n",
    "            count += 1\n",
    "        answer.append(count)\n",
    "    return answer"
   ]
  },
  {
   "cell_type": "code",
   "execution_count": 44,
   "metadata": {},
   "outputs": [
    {
     "data": {
      "text/plain": [
       "[2, 1]"
      ]
     },
     "execution_count": 44,
     "metadata": {},
     "output_type": "execute_result"
    }
   ],
   "source": [
    "solution([93,30,55], [1,30,5])"
   ]
  },
  {
   "cell_type": "code",
   "execution_count": null,
   "metadata": {},
   "outputs": [],
   "source": [
    "#솔루션2: 통과. 어이없어!!!!!\n",
    "\n",
    "from collections import deque\n",
    "from math import ceil\n",
    "\n",
    "def solution(progresses, speeds):\n",
    "    ps_pair = list(zip(progresses, speeds))\n",
    "    days = deque([ceil((100-p)/s) for (p, s) in ps_pair])\n",
    "    answer = []\n",
    "    while len(days) != 0:\n",
    "        count = 1\n",
    "        cur = days.popleft()\n",
    "        while len(days) != 0 and cur >= days[0]:  #부등호에 등호 추가\n",
    "            days.popleft()\n",
    "            count += 1\n",
    "        answer.append(count)\n",
    "    return answer"
   ]
  },
  {
   "cell_type": "code",
   "execution_count": null,
   "metadata": {},
   "outputs": [],
   "source": []
  },
  {
   "cell_type": "code",
   "execution_count": 1,
   "metadata": {},
   "outputs": [],
   "source": [
    "#다른 사람 풀이\n",
    "\n",
    "def solution(progresses, speeds):\n",
    "    Q=[]\n",
    "    for p, s in zip(progresses, speeds):  # zip 후 list로 굳이 바꾸어주지 않아도 된다\n",
    "        if len(Q)==0 or Q[-1][0]<-((p-100)//s): # math.ceil 없이 올림하기\n",
    "            Q.append([-((p-100)//s),1])\n",
    "        else:\n",
    "            Q[-1][1]+=1\n",
    "    return [q[1] for q in Q]"
   ]
  },
  {
   "cell_type": "code",
   "execution_count": null,
   "metadata": {},
   "outputs": [],
   "source": []
  }
 ],
 "metadata": {
  "kernelspec": {
   "display_name": "Python 3",
   "language": "python",
   "name": "python3"
  },
  "language_info": {
   "codemirror_mode": {
    "name": "ipython",
    "version": 3
   },
   "file_extension": ".py",
   "mimetype": "text/x-python",
   "name": "python",
   "nbconvert_exporter": "python",
   "pygments_lexer": "ipython3",
   "version": "3.7.5"
  }
 },
 "nbformat": 4,
 "nbformat_minor": 2
}
