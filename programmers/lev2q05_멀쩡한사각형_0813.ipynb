{
 "cells": [
  {
   "cell_type": "markdown",
   "metadata": {},
   "source": [
    "https://programmers.co.kr/learn/courses/30/lessons/62048"
   ]
  },
  {
   "cell_type": "code",
   "execution_count": 1,
   "metadata": {},
   "outputs": [],
   "source": [
    "#솔루션1: 시간초과 3개 (83.3점)\n",
    "\n",
    "import math\n",
    "\n",
    "def solution(w,h):\n",
    "    answer = 0\n",
    "    for k in range(1, w+1):\n",
    "        height = -h/w*k + h\n",
    "        answer += math.floor(height)\n",
    "    answer *= 2\n",
    "    return answer"
   ]
  },
  {
   "cell_type": "code",
   "execution_count": 2,
   "metadata": {},
   "outputs": [
    {
     "data": {
      "text/plain": [
       "80"
      ]
     },
     "execution_count": 2,
     "metadata": {},
     "output_type": "execute_result"
    }
   ],
   "source": [
    "solution(8, 12)"
   ]
  },
  {
   "cell_type": "code",
   "execution_count": 3,
   "metadata": {},
   "outputs": [],
   "source": [
    "#솔루션2: int가 문제가 아니었다. 더 느려졌어\n",
    "\n",
    "def solution(w,h):\n",
    "    answer = 0\n",
    "    for k in range(1, w+1):\n",
    "        height = -h/w*k + h\n",
    "        answer += int(height)  # int를 까먹다니\n",
    "    answer *= 2\n",
    "    return answer"
   ]
  },
  {
   "cell_type": "code",
   "execution_count": 4,
   "metadata": {},
   "outputs": [
    {
     "data": {
      "text/plain": [
       "80"
      ]
     },
     "execution_count": 4,
     "metadata": {},
     "output_type": "execute_result"
    }
   ],
   "source": [
    "solution(8, 12)"
   ]
  },
  {
   "cell_type": "code",
   "execution_count": 5,
   "metadata": {},
   "outputs": [],
   "source": [
    "#솔루션3: 또 똑같아\n",
    "\n",
    "import math\n",
    "\n",
    "def solution(w,h):\n",
    "    answer = 0\n",
    "    a = -h/w  #이 연산이 오래 걸릴까봐 변수 처리\n",
    "    for k in range(1, w+1):\n",
    "        height = a*k + h\n",
    "        answer += math.floor(height)\n",
    "    answer *= 2\n",
    "    return answer"
   ]
  },
  {
   "cell_type": "code",
   "execution_count": 6,
   "metadata": {},
   "outputs": [
    {
     "data": {
      "text/plain": [
       "80"
      ]
     },
     "execution_count": 6,
     "metadata": {},
     "output_type": "execute_result"
    }
   ],
   "source": [
    "solution(8, 12)"
   ]
  },
  {
   "cell_type": "code",
   "execution_count": 17,
   "metadata": {},
   "outputs": [],
   "source": [
    "#솔루션4: 시간 초과 1개 (94.4점)\n",
    "\n",
    "import math\n",
    "\n",
    "def solution(w,h):\n",
    "    unusable = 0\n",
    "    a = -h/w\n",
    "    for k in range(0, w+1):\n",
    "        start_height = a * k + h\n",
    "        end_height = a * (k+1) + h\n",
    "        unusable += math.ceil(start_height-math.floor(end_height))\n",
    "        if end_height == math.floor(end_height):  #직선과 교점일 때\n",
    "            count = k+1\n",
    "            break\n",
    "    answer = w * h - w/count * unusable\n",
    "    return answer"
   ]
  },
  {
   "cell_type": "code",
   "execution_count": 19,
   "metadata": {},
   "outputs": [
    {
     "name": "stdout",
     "output_type": "stream",
     "text": [
      "2\n"
     ]
    },
    {
     "data": {
      "text/plain": [
       "80.0"
      ]
     },
     "execution_count": 19,
     "metadata": {},
     "output_type": "execute_result"
    }
   ],
   "source": [
    "solution(8, 12)"
   ]
  },
  {
   "cell_type": "code",
   "execution_count": 20,
   "metadata": {},
   "outputs": [],
   "source": [
    "#솔루션5: 변수 처리 --> 조금 빨라지긴 했는데 점수는 똑같아\n",
    "\n",
    "import math\n",
    "\n",
    "def solution(w,h):\n",
    "    unusable = 0\n",
    "    a = -h/w\n",
    "    for k in range(0, w+1):\n",
    "        start_height = a * k + h\n",
    "        end_height = a * (k+1) + h\n",
    "        usable = math.floor(end_height)\n",
    "        unusable += math.ceil(start_height-usable)\n",
    "        if end_height == usable:  #직선과 교점일 때\n",
    "            count = k+1\n",
    "            break\n",
    "    answer = w * h - w/count * unusable\n",
    "    return answer"
   ]
  },
  {
   "cell_type": "code",
   "execution_count": 21,
   "metadata": {},
   "outputs": [
    {
     "data": {
      "text/plain": [
       "80.0"
      ]
     },
     "execution_count": 21,
     "metadata": {},
     "output_type": "execute_result"
    }
   ],
   "source": [
    "solution(8, 12)"
   ]
  },
  {
   "cell_type": "code",
   "execution_count": 24,
   "metadata": {},
   "outputs": [],
   "source": [
    "#솔루션6: 중복 계산 제거 --> 좀 더 빨라지긴 했는데 점수 똑같다\n",
    "\n",
    "import math\n",
    "\n",
    "def solution(w,h):\n",
    "    unusable = 0\n",
    "    a = -h/w\n",
    "    prev_height = h\n",
    "    for k in range(1, w+1):\n",
    "        height = a * k + h\n",
    "        usable = math.floor(height)\n",
    "        unusable += math.ceil(prev_height-usable)\n",
    "        if height == usable:  #직선과 교점일 때\n",
    "            count = k\n",
    "            break\n",
    "        prev_height = height\n",
    "    answer = w * h - w/count * unusable\n",
    "    return answer"
   ]
  },
  {
   "cell_type": "code",
   "execution_count": 25,
   "metadata": {},
   "outputs": [
    {
     "data": {
      "text/plain": [
       "80.0"
      ]
     },
     "execution_count": 25,
     "metadata": {},
     "output_type": "execute_result"
    }
   ],
   "source": [
    "solution(8, 12)"
   ]
  },
  {
   "cell_type": "code",
   "execution_count": null,
   "metadata": {},
   "outputs": [],
   "source": []
  },
  {
   "cell_type": "code",
   "execution_count": null,
   "metadata": {},
   "outputs": [],
   "source": [
    "#솔루션7: \n",
    "\n",
    "import math\n",
    "\n",
    "def solution(w,h):\n",
    "    unusable = 0\n",
    "    a = -h/w\n",
    "    prev_height = h   #initial h. y 절편이다b.\n",
    "    for k in range(1, w+1):\n",
    "        height = a * k + h\n",
    "        usable = math.floor(height)\n",
    "        unusable += math.ceil(prev_height-usable)\n",
    "        if height == usable:  #직선과 교점일 때\n",
    "            count = k\n",
    "            break\n",
    "        prev_height = height\n",
    "    answer = w * h - w/count * unusable\n",
    "    return answer"
   ]
  },
  {
   "cell_type": "code",
   "execution_count": null,
   "metadata": {},
   "outputs": [],
   "source": [
    "solution(8, 12)"
   ]
  },
  {
   "cell_type": "code",
   "execution_count": null,
   "metadata": {},
   "outputs": [],
   "source": [
    "#솔루션8: \n",
    "\n",
    "import math\n",
    "\n",
    "def solution(w,h):\n",
    "    unusable = 0\n",
    "    a = -h/w\n",
    "    prev_height = h   #initial h. y 절편이다b.\n",
    "    for k in range(1, w+1):\n",
    "        height = a * k + h\n",
    "        usable = math.floor(height)\n",
    "        unusable += math.ceil(prev_height-usable)\n",
    "        if height == usable:  #직선과 교점일 때\n",
    "            count = k\n",
    "            break\n",
    "        prev_height = height\n",
    "    answer = w * h - w/count * unusable\n",
    "    return answer"
   ]
  },
  {
   "cell_type": "code",
   "execution_count": null,
   "metadata": {},
   "outputs": [],
   "source": []
  },
  {
   "cell_type": "code",
   "execution_count": null,
   "metadata": {},
   "outputs": [],
   "source": []
  }
 ],
 "metadata": {
  "kernelspec": {
   "display_name": "Python 3",
   "language": "python",
   "name": "python3"
  },
  "language_info": {
   "codemirror_mode": {
    "name": "ipython",
    "version": 3
   },
   "file_extension": ".py",
   "mimetype": "text/x-python",
   "name": "python",
   "nbconvert_exporter": "python",
   "pygments_lexer": "ipython3",
   "version": "3.7.5"
  }
 },
 "nbformat": 4,
 "nbformat_minor": 2
}
