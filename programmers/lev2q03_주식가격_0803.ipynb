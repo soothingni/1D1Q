{
 "cells": [
  {
   "cell_type": "markdown",
   "metadata": {},
   "source": [
    "https://programmers.co.kr/learn/courses/30/lessons/42584"
   ]
  },
  {
   "cell_type": "code",
   "execution_count": 22,
   "metadata": {},
   "outputs": [],
   "source": [
    "#솔루션1: 시간초과\n",
    "\n",
    "def solution(prices):\n",
    "    answer = []\n",
    "    for k in range(len(prices)):\n",
    "        current = prices[k]\n",
    "        count = 0\n",
    "        for next_price in prices[k+1:]:\n",
    "            count += 1\n",
    "            if current > next_price:\n",
    "                break\n",
    "        answer.append(count)\n",
    "    return answer"
   ]
  },
  {
   "cell_type": "code",
   "execution_count": 23,
   "metadata": {},
   "outputs": [
    {
     "data": {
      "text/plain": [
       "[4, 3, 1, 1, 0]"
      ]
     },
     "execution_count": 23,
     "metadata": {},
     "output_type": "execute_result"
    }
   ],
   "source": [
    "solution([1, 2, 3, 2, 3])"
   ]
  },
  {
   "cell_type": "code",
   "execution_count": 28,
   "metadata": {},
   "outputs": [],
   "source": [
    "#솔루션2: 시간초과\n",
    "\n",
    "def solution(prices):\n",
    "    answer = []\n",
    "    temp = prices.copy()\n",
    "    for price in prices:\n",
    "        count = 0\n",
    "        temp.pop(0)\n",
    "        for next_price in temp:\n",
    "            count += 1\n",
    "            if price > next_price:\n",
    "                break\n",
    "        answer.append(count)\n",
    "    return answer"
   ]
  },
  {
   "cell_type": "code",
   "execution_count": 29,
   "metadata": {},
   "outputs": [
    {
     "data": {
      "text/plain": [
       "[4, 3, 1, 1, 0]"
      ]
     },
     "execution_count": 29,
     "metadata": {},
     "output_type": "execute_result"
    }
   ],
   "source": [
    "solution([1, 2, 3, 2, 3])"
   ]
  },
  {
   "cell_type": "code",
   "execution_count": 30,
   "metadata": {},
   "outputs": [],
   "source": [
    "#솔루션3: 통과\n",
    "\n",
    "from collections import deque\n",
    "\n",
    "def solution(prices):\n",
    "    answer = []\n",
    "    queue = deque(prices)\n",
    "    for price in prices:\n",
    "        count = 0\n",
    "        queue.popleft()\n",
    "        for next_price in queue:\n",
    "            count += 1\n",
    "            if price > next_price:\n",
    "                break\n",
    "        answer.append(count)\n",
    "    return answer"
   ]
  },
  {
   "cell_type": "code",
   "execution_count": 31,
   "metadata": {},
   "outputs": [
    {
     "data": {
      "text/plain": [
       "[4, 3, 1, 1, 0]"
      ]
     },
     "execution_count": 31,
     "metadata": {},
     "output_type": "execute_result"
    }
   ],
   "source": [
    "solution([1, 2, 3, 2, 3])"
   ]
  },
  {
   "cell_type": "markdown",
   "metadata": {},
   "source": [
    "### 시간복잡도 문제\n",
    "\n",
    "단순 리스트로 queue를 구현했을 때 `pop(0)` 메소드를 쓰면 앞에서 하나를 비우고 뒤 데이터를 한칸씩 앞으로 당기는 작업을 수행한다. 따라서 시간복잡도는 **O(1)이 아닌 O(n)**이 된다.\n",
    "\n",
    "파이썬에서 queue를 활용하고 싶다면 `collections` 모듈에서 `deque`를 임포트해서 쓰도록 한다. \n",
    "\n",
    "`collections` 모듈은 CPython으로 구현되어 있어 내장 자료구조와 퍼포먼스 차이가 크다.\n",
    "\n",
    "(참조: https://jacoblog.tistory.com/2)"
   ]
  },
  {
   "cell_type": "code",
   "execution_count": null,
   "metadata": {},
   "outputs": [],
   "source": [
    "#다른 풀이\n",
    "\n",
    "def solution(prices):\n",
    "    answer = [0] * len(prices)\n",
    "    for i in range(len(prices)):\n",
    "        for j in range(i+1, len(prices)):\n",
    "            if prices[i] <= prices[j]:\n",
    "                answer[i] += 1\n",
    "            else:\n",
    "                answer[i] += 1\n",
    "                break\n",
    "    return answer\n"
   ]
  }
 ],
 "metadata": {
  "kernelspec": {
   "display_name": "Python 3",
   "language": "python",
   "name": "python3"
  },
  "language_info": {
   "codemirror_mode": {
    "name": "ipython",
    "version": 3
   },
   "file_extension": ".py",
   "mimetype": "text/x-python",
   "name": "python",
   "nbconvert_exporter": "python",
   "pygments_lexer": "ipython3",
   "version": "3.7.5"
  }
 },
 "nbformat": 4,
 "nbformat_minor": 2
}
