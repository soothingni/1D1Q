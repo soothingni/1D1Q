{
 "cells": [
  {
   "cell_type": "markdown",
   "metadata": {},
   "source": [
    "백준 #1000"
   ]
  },
  {
   "cell_type": "code",
   "execution_count": 1,
   "metadata": {
    "ExecuteTime": {
     "end_time": "2020-01-14T06:15:25.591515Z",
     "start_time": "2020-01-14T06:15:17.190477Z"
    }
   },
   "outputs": [
    {
     "name": "stdout",
     "output_type": "stream",
     "text": [
      "양의 정수를 입력해주세요: 0\n",
      "양의 정수를 입력해주세요: 3\n",
      "10보다 작은 정수를 입력해주세요: 11\n",
      "10보다 작은 정수를 입력해주세요: 15\n",
      "10보다 작은 정수를 입력해주세요: -100\n",
      "-97\n"
     ]
    }
   ],
   "source": [
    "#솔루션 1: 런타임에러\n",
    "num1 = 0\n",
    "while num1 <= 0:\n",
    "    num1 = int(input(\"양의 정수를 입력해주세요: \"))\n",
    "num2 = 10\n",
    "while num2 >= 10:\n",
    "    num2 = int(input(\"10보다 작은 정수를 입력해주세요: \"))\n",
    "print(num1 + num2)"
   ]
  },
  {
   "cell_type": "markdown",
   "metadata": {},
   "source": [
    "--> 제출 시 런타임 에러 뜸"
   ]
  },
  {
   "cell_type": "code",
   "execution_count": 9,
   "metadata": {
    "ExecuteTime": {
     "end_time": "2020-01-14T06:17:53.143226Z",
     "start_time": "2020-01-14T06:17:40.437785Z"
    }
   },
   "outputs": [
    {
     "name": "stdout",
     "output_type": "stream",
     "text": [
      "300 300\n",
      "두번째 10보다 작은 정수를 입력해주세요: 2\n",
      "302\n"
     ]
    }
   ],
   "source": [
    "#솔루션2: 통과!\n",
    "num1, num2 = [int(x) for x in input().split()]\n",
    "while num1 <= 0:\n",
    "    num1 = int(input(\"첫번째 숫자는 양의 정수를 입력해주세요: \"))\n",
    "while num2 >= 10:\n",
    "    num2 = int(input(\"두번째 숫자는 10보다 작은 정수를 입력해주세요: \"))\n",
    "print(num1 + num2)"
   ]
  },
  {
   "cell_type": "markdown",
   "metadata": {},
   "source": [
    "--> 통과!"
   ]
  },
  {
   "cell_type": "code",
   "execution_count": null,
   "metadata": {},
   "outputs": [],
   "source": []
  }
 ],
 "metadata": {
  "kernelspec": {
   "display_name": "Python 3",
   "language": "python",
   "name": "python3"
  },
  "language_info": {
   "codemirror_mode": {
    "name": "ipython",
    "version": 3
   },
   "file_extension": ".py",
   "mimetype": "text/x-python",
   "name": "python",
   "nbconvert_exporter": "python",
   "pygments_lexer": "ipython3",
   "version": "3.7.4"
  },
  "varInspector": {
   "cols": {
    "lenName": 16,
    "lenType": 16,
    "lenVar": 40
   },
   "kernels_config": {
    "python": {
     "delete_cmd_postfix": "",
     "delete_cmd_prefix": "del ",
     "library": "var_list.py",
     "varRefreshCmd": "print(var_dic_list())"
    },
    "r": {
     "delete_cmd_postfix": ") ",
     "delete_cmd_prefix": "rm(",
     "library": "var_list.r",
     "varRefreshCmd": "cat(var_dic_list()) "
    }
   },
   "types_to_exclude": [
    "module",
    "function",
    "builtin_function_or_method",
    "instance",
    "_Feature"
   ],
   "window_display": false
  }
 },
 "nbformat": 4,
 "nbformat_minor": 2
}
