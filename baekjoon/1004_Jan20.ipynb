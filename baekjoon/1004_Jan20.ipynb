{
 "cells": [
  {
   "cell_type": "markdown",
   "metadata": {},
   "source": [
    "백준 #1004\n",
    "\n",
    "https://www.acmicpc.net/problem/1004"
   ]
  },
  {
   "cell_type": "code",
   "execution_count": 2,
   "metadata": {
    "ExecuteTime": {
     "end_time": "2020-01-21T06:57:45.921685Z",
     "start_time": "2020-01-21T06:56:54.560943Z"
    }
   },
   "outputs": [
    {
     "name": "stdout",
     "output_type": "stream",
     "text": [
      "2\n",
      "-5 1 12 1\n",
      "7\n",
      "1 1 8\n",
      "-3 -1 1\n",
      "2 2 2\n",
      "5 5 1\n",
      "-4 5 1\n",
      "12 1 1\n",
      "12 1 2\n",
      "3\n",
      "-5 1 5 1\n",
      "1\n",
      "0 0 2\n",
      "0\n"
     ]
    }
   ],
   "source": [
    "#솔루션 1: \"틀렸습니다.\"\n",
    "\n",
    "T = int(input())\n",
    "\n",
    "#출발점이나 도착점이 원 안에 있을 경우(==점과 원의 중심 사이의 거리가 원의 반지름보다 작은 경우)에 count에 1씩 더함\n",
    "for _ in range(T):\n",
    "    x1, y1, x2, y2 = map(int, input().split())\n",
    "    n = int(input())\n",
    "    count = 0\n",
    "    for _ in range(n):\n",
    "        cx, cy, cr = map(int, input().split())\n",
    "        d1 = ((x1-cx)**2 + (y1-cy)**2)**0.5\n",
    "        d2 = ((x2-cx)**2 + (y2-cy)**2)**0.5\n",
    "        if d1 > d2:                     \n",
    "            if d2 < cr: count += 1\n",
    "            else: pass\n",
    "        else:\n",
    "            if d1 < cr: count += 1\n",
    "            else: pass       \n",
    "    print(count)"
   ]
  },
  {
   "cell_type": "code",
   "execution_count": 4,
   "metadata": {
    "ExecuteTime": {
     "end_time": "2020-01-21T07:09:38.641438Z",
     "start_time": "2020-01-21T07:08:53.592979Z"
    }
   },
   "outputs": [
    {
     "name": "stdout",
     "output_type": "stream",
     "text": [
      "2\n",
      "-5 1 12 1\n",
      "7\n",
      "1 1 8\n",
      "-3 -1 1\n",
      "2 2 2\n",
      "5 5 1\n",
      "-4 5 1\n",
      "12 1 1\n",
      "12 1 2\n",
      "3\n",
      "-5 1 5 1\n",
      "1\n",
      "0 0 2\n",
      "0\n"
     ]
    }
   ],
   "source": [
    "#솔루션 2: 맞았습니다!!!!!!!!!\n",
    "\n",
    "T = int(input())\n",
    "\n",
    "#출발점이나 도착점이 원 안에 있을 경우(==점과 원의 중심 사이의 거리가 원의 반지름보다 작은 경우)에 count에 1씩 더함\n",
    "\n",
    "#만약 두 점 다 원 안에 있으면 count에 더하면 안됨\n",
    "for _ in range(T):\n",
    "    x1, y1, x2, y2 = map(int, input().split())\n",
    "    n = int(input())\n",
    "    count = 0\n",
    "    for _ in range(n):\n",
    "        cx, cy, cr = map(int, input().split())\n",
    "        d1 = ((x1-cx)**2 + (y1-cy)**2)**0.5\n",
    "        d2 = ((x2-cx)**2 + (y2-cy)**2)**0.5\n",
    "        if d1 < cr and d2 < cr:      #이 if문을 추가했다\n",
    "            continue\n",
    "        if d1 > d2:                     \n",
    "            if d2 < cr: count += 1\n",
    "            else: pass\n",
    "        else:\n",
    "            if d1 < cr: count += 1\n",
    "            else: pass       \n",
    "    print(count)"
   ]
  },
  {
   "cell_type": "code",
   "execution_count": null,
   "metadata": {},
   "outputs": [],
   "source": []
  }
 ],
 "metadata": {
  "kernelspec": {
   "display_name": "Python 3",
   "language": "python",
   "name": "python3"
  },
  "language_info": {
   "codemirror_mode": {
    "name": "ipython",
    "version": 3
   },
   "file_extension": ".py",
   "mimetype": "text/x-python",
   "name": "python",
   "nbconvert_exporter": "python",
   "pygments_lexer": "ipython3",
   "version": "3.7.4"
  },
  "varInspector": {
   "cols": {
    "lenName": 16,
    "lenType": 16,
    "lenVar": 40
   },
   "kernels_config": {
    "python": {
     "delete_cmd_postfix": "",
     "delete_cmd_prefix": "del ",
     "library": "var_list.py",
     "varRefreshCmd": "print(var_dic_list())"
    },
    "r": {
     "delete_cmd_postfix": ") ",
     "delete_cmd_prefix": "rm(",
     "library": "var_list.r",
     "varRefreshCmd": "cat(var_dic_list()) "
    }
   },
   "types_to_exclude": [
    "module",
    "function",
    "builtin_function_or_method",
    "instance",
    "_Feature"
   ],
   "window_display": false
  }
 },
 "nbformat": 4,
 "nbformat_minor": 2
}
