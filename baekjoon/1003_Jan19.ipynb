{
 "cells": [
  {
   "cell_type": "markdown",
   "metadata": {},
   "source": [
    "백준 #1003\n",
    "\n",
    "https://www.acmicpc.net/problem/1003"
   ]
  },
  {
   "cell_type": "code",
   "execution_count": 6,
   "metadata": {},
   "outputs": [
    {
     "name": "stdout",
     "output_type": "stream",
     "text": [
      "테스트 케이스의 수를 입력하세요.3\n",
      "N을 입력하세요.0\n",
      "1 0\n",
      "N을 입력하세요.1\n",
      "0 1\n",
      "N을 입력하세요.3\n",
      "1 2\n"
     ]
    }
   ],
   "source": [
    "#솔루션 1: 시간 초과\n",
    "\n",
    "#0과 1이 출력되는 횟수를 세는 함수\n",
    "def fibonacci_count(n):\n",
    "    global zero_one_dict\n",
    "    if n == 0 or n == 1:\n",
    "        zero_one_dict[str(n)] += 1\n",
    "        return n\n",
    "    else:\n",
    "        return fibonacci_count(n-1) + fibonacci_count(n-2)\n",
    "\n",
    "#테스트 케이스 수 입력받기\n",
    "T = int(input(\"테스트 케이스의 수를 입력하세요.\"))\n",
    "\n",
    "for _ in range(T):\n",
    "    zero_one_dict = {\"0\": 0, \"1\": 0}    #zero_one_dict 초기화\n",
    "    N = int(input(\"N을 입력하세요.\"))\n",
    "    fibonacci_count(N)\n",
    "    print(zero_one_dict['0'], zero_one_dict['1'])"
   ]
  },
  {
   "cell_type": "code",
   "execution_count": 7,
   "metadata": {},
   "outputs": [
    {
     "name": "stdout",
     "output_type": "stream",
     "text": [
      "3\n",
      "40\n",
      "63245986 102334155\n",
      "13\n",
      "144 233\n",
      "30\n",
      "514229 832040\n"
     ]
    }
   ],
   "source": [
    "#솔루션 2: 시간 초과\n",
    "\n",
    "#0과 1이 출력되는 횟수를 세는 함수\n",
    "def fibonacci_count(n):\n",
    "    global zero_one_dict\n",
    "    if n == 0 or n == 1:\n",
    "        zero_one_dict[str(n)] += 1\n",
    "        return n\n",
    "    else:\n",
    "        return fibonacci_count(n-1) + fibonacci_count(n-2)\n",
    "\n",
    "#테스트 케이스 수 입력받기\n",
    "T = int(input())\n",
    "\n",
    "for _ in range(T):\n",
    "    zero_one_dict = {\"0\": 0, \"1\": 0}    #zero_one_dict 초기화\n",
    "    N = int(input())\n",
    "    fibonacci_count(N)\n",
    "    print(zero_one_dict['0'], zero_one_dict['1'])"
   ]
  },
  {
   "cell_type": "code",
   "execution_count": 1,
   "metadata": {},
   "outputs": [
    {
     "name": "stdout",
     "output_type": "stream",
     "text": [
      "[1, 0, 1, 1, 2, 3, 5, 8, 13, 21, 34, 55, 89, 144, 233, 377, 610, 987, 1597, 2584, 4181, 6765, 10946, 17711, 28657, 46368, 75025, 121393, 196418, 317811, 514229, 832040, 1346269, 2178309, 3524578, 5702887, 9227465, 14930352, 24157817, 39088169]\n"
     ]
    }
   ],
   "source": [
    "#피보나치 수열을 출력하는 프로그램\n",
    "n= 40\n",
    "fibo_list = [1, 0]\n",
    "a=0;b=1\n",
    "while len(fibo_list) < n:\n",
    "    fibo_list.append(b)\n",
    "    a, b = b, a+b\n",
    "print(fibo_list)"
   ]
  },
  {
   "cell_type": "code",
   "execution_count": 1,
   "metadata": {},
   "outputs": [
    {
     "name": "stdout",
     "output_type": "stream",
     "text": [
      "3\n",
      "0\n",
      "1 0\n",
      "1\n",
      "0 1\n",
      "3\n",
      "1 2\n"
     ]
    }
   ],
   "source": [
    "#솔루션 3:\n",
    "\n",
    "T = int(input())\n",
    "\n",
    "for _ in range(T):\n",
    "    fibo_list = [1, 0]\n",
    "    a=0;b=1\n",
    "    N = int(input())\n",
    "    while len(fibo_list) < N+2:\n",
    "        fibo_list.append(b)\n",
    "        a, b = b, a+b\n",
    "    print(fibo_list[N], fibo_list[N+1])"
   ]
  },
  {
   "cell_type": "code",
   "execution_count": null,
   "metadata": {},
   "outputs": [],
   "source": []
  }
 ],
 "metadata": {
  "kernelspec": {
   "display_name": "Python 3",
   "language": "python",
   "name": "python3"
  },
  "language_info": {
   "codemirror_mode": {
    "name": "ipython",
    "version": 3
   },
   "file_extension": ".py",
   "mimetype": "text/x-python",
   "name": "python",
   "nbconvert_exporter": "python",
   "pygments_lexer": "ipython3",
   "version": "3.7.4"
  },
  "varInspector": {
   "cols": {
    "lenName": 16,
    "lenType": 16,
    "lenVar": 40
   },
   "kernels_config": {
    "python": {
     "delete_cmd_postfix": "",
     "delete_cmd_prefix": "del ",
     "library": "var_list.py",
     "varRefreshCmd": "print(var_dic_list())"
    },
    "r": {
     "delete_cmd_postfix": ") ",
     "delete_cmd_prefix": "rm(",
     "library": "var_list.r",
     "varRefreshCmd": "cat(var_dic_list()) "
    }
   },
   "types_to_exclude": [
    "module",
    "function",
    "builtin_function_or_method",
    "instance",
    "_Feature"
   ],
   "window_display": false
  }
 },
 "nbformat": 4,
 "nbformat_minor": 2
}
