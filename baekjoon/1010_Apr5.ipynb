{
 "cells": [
  {
   "cell_type": "markdown",
   "metadata": {},
   "source": [
    "백준 #1010\n",
    "\n",
    "https://www.acmicpc.net/problem/1010"
   ]
  },
  {
   "cell_type": "code",
   "execution_count": 12,
   "metadata": {},
   "outputs": [
    {
     "name": "stdout",
     "output_type": "stream",
     "text": [
      "3\n",
      "2 2\n",
      "1\n",
      "1 5\n",
      "5\n",
      "13 29\n",
      "67863915\n"
     ]
    }
   ],
   "source": [
    "#솔루션 1: 맞았습니다!\n",
    "\n",
    "def factorial(n):\n",
    "    if n == 1 or n==0: \n",
    "        return 1\n",
    "    return n * factorial(n - 1)\n",
    "\n",
    "def combination(n, m):\n",
    "    num = factorial(m) / (factorial(n)*factorial(m-n))\n",
    "    return int(num)\n",
    "\n",
    "T = int(input())\n",
    "for _ in range(T):\n",
    "    N, M = map(int, input().split())\n",
    "    case = combination(N, M)\n",
    "    print(case)"
   ]
  },
  {
   "cell_type": "code",
   "execution_count": null,
   "metadata": {},
   "outputs": [],
   "source": []
  }
 ],
 "metadata": {
  "kernelspec": {
   "display_name": "Python 3",
   "language": "python",
   "name": "python3"
  },
  "language_info": {
   "codemirror_mode": {
    "name": "ipython",
    "version": 3
   },
   "file_extension": ".py",
   "mimetype": "text/x-python",
   "name": "python",
   "nbconvert_exporter": "python",
   "pygments_lexer": "ipython3",
   "version": "3.7.5"
  }
 },
 "nbformat": 4,
 "nbformat_minor": 2
}
