{
 "cells": [
  {
   "cell_type": "markdown",
   "metadata": {},
   "source": [
    "백준 #1002\n",
    "\n",
    "https://www.acmicpc.net/problem/1002"
   ]
  },
  {
   "cell_type": "code",
   "execution_count": 36,
   "metadata": {},
   "outputs": [
    {
     "name": "stdout",
     "output_type": "stream",
     "text": [
      "테스트 케이스의 개수를 입력하세요.3\n",
      "x1, y1, r1, x2, y2, r2 순으로 정수를 입력하세요.0 0 13 40 0 37\n",
      "2\n",
      "x1, y1, r1, x2, y2, r2 순으로 정수를 입력하세요.0 0 3 0 7 4\n",
      "1\n",
      "x1, y1, r1, x2, y2, r2 순으로 정수를 입력하세요.1 1 1 1 1 5\n",
      "0\n"
     ]
    }
   ],
   "source": [
    "#솔루션 1 (numpy) 활용): 런타임 에러\n",
    "\n",
    "import numpy as np\n",
    "\n",
    "T = int(input(\"테스트 케이스의 개수를 입력하세요.\"))\n",
    "\n",
    "for _ in range(T):\n",
    "    x1, y1, r1, x2, y2, r2 = [int(x.strip()) for x in input(\"x1, y1, r1, x2, y2, r2 순으로 정수를 입력하세요.\").split()]\n",
    "\n",
    "    while (x1 | y1 | x2 | y2 < -10000) | (x1 | y1 | x2 | y2 > 10000):\n",
    "        x1, y1, x2, y2 = [int(x.strip()) for x in input(\"좌표는 -10000과 10000 사이의 값으로 입력하세요.\").split()]\n",
    "\n",
    "    while (r1 | r2 > 10000) | (r1 | r2 < 0) | (type(r1) != int or type(r2) != int):\n",
    "        r1, r2 = [int(x.strip()) for x in input(\"거리는 10000 이하의 자연수로 입력하세요.\").split()]\n",
    "\n",
    "    cho = np.array([x1, y1])\n",
    "    baek = np.array([x2, y2])\n",
    "\n",
    "    d = np.linalg.norm(cho-baek)\n",
    "\n",
    "    if (cho == baek).all():\n",
    "        if r1 == r2: print(-1)\n",
    "        else: print(0)\n",
    "    elif r1 + r2 > d: print(2)\n",
    "    elif r1 + r2 == d: print(1)\n",
    "    elif r1 + r2 < d: print(0)"
   ]
  },
  {
   "cell_type": "code",
   "execution_count": 37,
   "metadata": {},
   "outputs": [
    {
     "name": "stdout",
     "output_type": "stream",
     "text": [
      "테스트 케이스의 개수를 입력하세요.3\n",
      "x1, y1, r1, x2, y2, r2 순으로 정수를 입력하세요.0 0 13 40 0 37\n",
      "2\n",
      "x1, y1, r1, x2, y2, r2 순으로 정수를 입력하세요.0 0 3 0 7 4\n",
      "1\n",
      "x1, y1, r1, x2, y2, r2 순으로 정수를 입력하세요.1 1 1 1 1 5\n",
      "0\n"
     ]
    }
   ],
   "source": [
    "#솔루션 2 (math 활용): 출력 초과\n",
    "\n",
    "import math\n",
    "\n",
    "T = int(input(\"테스트 케이스의 개수를 입력하세요.\"))\n",
    "\n",
    "for _ in range(T):\n",
    "    x1, y1, r1, x2, y2, r2 = [int(x.strip()) for x in input(\"x1, y1, r1, x2, y2, r2 순으로 정수를 입력하세요.\").split()]\n",
    "\n",
    "    while (x1 | y1 | x2 | y2 < -10000) | (x1 | y1 | x2 | y2 > 10000):\n",
    "        x1, y1, x2, y2 = [int(x.strip()) for x in input(\"좌표는 -10000과 10000 사이의 값으로 입력하세요.\").split()]\n",
    "\n",
    "    while (r1 | r2 > 10000) | (r1 | r2 < 0) | (type(r1) != int or type(r2) != int):\n",
    "        r1, r2 = [int(x.strip()) for x in input(\"거리는 10000 이하의 자연수로 입력하세요.\").split()]\n",
    "\n",
    "    d = math.sqrt((x2-x1)**2 + (y2-y1)**2)\n",
    "\n",
    "    if (x1, y1) == (x2, y2):\n",
    "        if r1 == r2: print(-1)\n",
    "        else: print(0)\n",
    "    elif r1 + r2 > d: print(2)\n",
    "    elif r1 + r2 == d: print(1)\n",
    "    elif: print(0)"
   ]
  },
  {
   "cell_type": "code",
   "execution_count": 40,
   "metadata": {},
   "outputs": [
    {
     "name": "stdout",
     "output_type": "stream",
     "text": [
      "테스트 케이스의 개수를 입력하세요.3\n",
      "x1, y1, r1, x2, y2, r2 순으로 정수를 입력하세요.0 0 13 40 0 37\n",
      "2\n",
      "x1, y1, r1, x2, y2, r2 순으로 정수를 입력하세요.0 0 3 0 7 4\n",
      "1\n",
      "x1, y1, r1, x2, y2, r2 순으로 정수를 입력하세요.1 1 1 1 1 5\n",
      "0\n"
     ]
    }
   ],
   "source": [
    "#솔루션 3 (솔루션 3에서 마지막 줄만 else로 바꿈): 출력초과\n",
    "\n",
    "import math\n",
    "\n",
    "T = int(input(\"테스트 케이스의 개수를 입력하세요.\"))\n",
    "\n",
    "for _ in range(T):\n",
    "    x1, y1, r1, x2, y2, r2 = [int(x.strip()) for x in input(\"x1, y1, r1, x2, y2, r2 순으로 정수를 입력하세요.\").split()]\n",
    "\n",
    "    while (x1 | y1 | x2 | y2 < -10000) | (x1 | y1 | x2 | y2 > 10000):\n",
    "        x1, y1, x2, y2 = [int(x.strip()) for x in input(\"좌표는 -10000과 10000 사이의 값으로 입력하세요.\").split()]\n",
    "\n",
    "    while (r1 | r2 > 10000) | (r1 | r2 < 0) | (type(r1) != int or type(r2) != int):\n",
    "        r1, r2 = [int(x.strip()) for x in input(\"거리는 10000 이하의 자연수로 입력하세요.\").split()]\n",
    "\n",
    "    d = math.sqrt((x2-x1)**2 + (y2-y1)**2)\n",
    "\n",
    "    if (x1, y1) == (x2, y2):\n",
    "        if r1 == r2: print(-1)\n",
    "        else: print(0)\n",
    "    elif r1 + r2 > d: print(2)\n",
    "    elif r1 + r2 == d: print(1)\n",
    "    else: print(0)"
   ]
  },
  {
   "cell_type": "code",
   "execution_count": null,
   "metadata": {},
   "outputs": [
    {
     "name": "stdout",
     "output_type": "stream",
     "text": [
      "테스트 케이스의 개수를 입력하세요.2\n",
      "x1, y1, r1, x2, y2, r2 순으로 정수/자연수를 입력하세요.0 0 0 -10001 0 0\n",
      "좌표는 -10000과 10000 사이의 값으로 입력하세요.0 0 40 0\n",
      "좌표는 -10000과 10000 사이의 값으로 입력하세요.0 0 40 0\n",
      "좌표는 -10000과 10000 사이의 값으로 입력하세요.0 0 0 0\n"
     ]
    }
   ],
   "source": [
    "#솔루션 4 (numpy 활용2): 런타임 에러\n",
    "\n",
    "import numpy as np\n",
    "\n",
    "T = int(input(\"테스트 케이스의 개수를 입력하세요.\"))\n",
    "\n",
    "for _ in range(T):\n",
    "    x1, y1, r1, x2, y2, r2 = [int(x) for x in input(\"x1, y1, r1, x2, y2, r2 순으로 정수/자연수를 입력하세요.\").split()]\n",
    "    \n",
    "    cond1 = -10000 <= (x1  y1 | x2 | y2) <= 10000\n",
    "    cond2 =  0 < (r1 | r2) <= 10000\n",
    "    \n",
    "    while not cond1:\n",
    "        x1, y1, x2, y2 = [int(x) for x in input(\"좌표는 -10000과 10000 사이의 값으로 입력하세요.\").split()]\n",
    "\n",
    "    while not cond2:\n",
    "        r1, r2 = [int(x) for x in input(\"거리는 10000 이하의 자연수로 입력하세요.\").split()]\n",
    "\n",
    "    cho = np.array([x1, y1])\n",
    "    baek = np.array([x2, y2])\n",
    "\n",
    "    d = np.linalg.norm(cho-baek)\n",
    "\n",
    "    if (cho == baek).all():\n",
    "        if r1 == r2: print(-1)\n",
    "        else: print(0)\n",
    "    elif r1 + r2 > d: print(2)\n",
    "    elif r1 + r2 == d: print(1)\n",
    "    elif r1 + r2 < d: print(0)"
   ]
  },
  {
   "cell_type": "code",
   "execution_count": null,
   "metadata": {},
   "outputs": [
    {
     "name": "stdout",
     "output_type": "stream",
     "text": [
      "0 0\n",
      "0 0\n",
      "a = 0, b = 0\n",
      "True\n",
      "1 0\n",
      "a = 1, b = 0\n",
      "True\n",
      "1 1\n",
      "a = 1, b = 1\n",
      "True\n",
      "100 100\n",
      "a = 100, b = 100\n",
      "True\n",
      "1000 1000\n",
      "a = 1000, b = 1000\n",
      "True\n"
     ]
    }
   ],
   "source": [
    "# while문 실험\n",
    "a, b = [int(x) for x in input().split()]\n",
    "\n",
    "cond100 = 0 < (a & b) < 100\n",
    "\n",
    "while not cond100:\n",
    "    a, b = [int(x) for x in input().split()]\n",
    "    print(f\"a = {a}, b = {b}\")\n",
    "    print(not cond100)\n",
    "    \n",
    "print(f\"FINAL: a = {a}, b = {b}\")"
   ]
  },
  {
   "cell_type": "code",
   "execution_count": 4,
   "metadata": {},
   "outputs": [
    {
     "name": "stdout",
     "output_type": "stream",
     "text": [
      "False\n",
      "False\n"
     ]
    }
   ],
   "source": [
    "a = 0\n",
    "b = 0\n",
    "\n",
    "cond100 = 0 < (a & b) < 100\n",
    "print(cond100)\n",
    "\n",
    "a = 3\n",
    "b = 4\n",
    "\n",
    "print(cond100)"
   ]
  },
  {
   "cell_type": "markdown",
   "metadata": {},
   "source": [
    "a, b를 바꿔도 알 수 없는 이유로 cond100의 참/거짓 여부는 바뀌지 않음(cond100 내의 a, b는 수정되지 않음)"
   ]
  },
  {
   "cell_type": "code",
   "execution_count": 2,
   "metadata": {},
   "outputs": [
    {
     "name": "stdout",
     "output_type": "stream",
     "text": [
      "0 0\n",
      "0 0\n",
      "a = 0, b = 0\n",
      "True\n",
      "1 0\n",
      "a = 1, b = 0\n",
      "True\n",
      "1 1\n",
      "a = 1, b = 1\n",
      "False\n",
      "FINAL: a = 1, b = 1\n"
     ]
    }
   ],
   "source": [
    "# while문 실험\n",
    "a, b = [int(x) for x in input().split()]\n",
    "\n",
    "while not (0 < (a & b) < 100):\n",
    "    a, b = [int(x) for x in input().split()]\n",
    "    print(f\"a = {a}, b = {b}\")\n",
    "    print(not (0 < (a & b) < 100))\n",
    "    \n",
    "print(f\"FINAL: a = {a}, b = {b}\")"
   ]
  },
  {
   "cell_type": "markdown",
   "metadata": {},
   "source": [
    "## --> while문 탈출과 문제가 있었던 것으로 판단된다.\n",
    "\n",
    "그런데... 구글링 해보니 딱히 조건을 적용하지 않아도 되는듯 싶어서 그냥 빼기로 했다....\n",
    "\n",
    "진짜 개고생했는데...ㅠㅠ 조건 적용은 차차 더 자세히 연구해보는걸로!"
   ]
  },
  {
   "cell_type": "code",
   "execution_count": 7,
   "metadata": {},
   "outputs": [
    {
     "name": "stdout",
     "output_type": "stream",
     "text": [
      "3\n",
      "0 0 13 40 0 37\n",
      "2\n",
      "0 0 3 0 7 4\n",
      "1\n",
      "1 1 1 1 1 5\n",
      "0\n"
     ]
    }
   ],
   "source": [
    "#솔루션 100만(체감..): 까먹고 있던 조건들이 있어서 추가했다.\n",
    "T = int(input())\n",
    "\n",
    "for _ in range(T):\n",
    "    x1, y1, r1, x2, y2, r2 = [int(x.strip()) for x in input().split()]\n",
    "    \n",
    "    d = ((x1-x2)**2 + (y1 - y2)**2) ** 0.5\n",
    "\n",
    "    if x1 == x2 and y1 == y2:\n",
    "        if r1 == r2: print(-1)\n",
    "        else: print(0)\n",
    "    else:\n",
    "        if d < abs(r1-r2) or d > r1 + r2: print(0)\n",
    "        elif d == abs(r1-r2) or d == r1+r2: print(1)\n",
    "        elif d > abs(r1-r2) or d < r1 + r2: print(2)"
   ]
  }
 ],
 "metadata": {
  "kernelspec": {
   "display_name": "Python 3",
   "language": "python",
   "name": "python3"
  },
  "language_info": {
   "codemirror_mode": {
    "name": "ipython",
    "version": 3
   },
   "file_extension": ".py",
   "mimetype": "text/x-python",
   "name": "python",
   "nbconvert_exporter": "python",
   "pygments_lexer": "ipython3",
   "version": "3.7.5"
  }
 },
 "nbformat": 4,
 "nbformat_minor": 2
}
