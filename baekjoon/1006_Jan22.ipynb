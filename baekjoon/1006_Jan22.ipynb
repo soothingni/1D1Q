{
 "cells": [
  {
   "cell_type": "markdown",
   "metadata": {},
   "source": [
    "백준 #1006\n",
    "\n",
    "https://www.acmicpc.net/problem/1006"
   ]
  },
  {
   "cell_type": "code",
   "execution_count": null,
   "metadata": {},
   "outputs": [],
   "source": [
    "첫째 줄에 테스트 케이스의 개수 T가 주어진다. 각 테스트 케이스는 다음과 같이 구성되어있다.\n",
    "\n",
    "첫째 줄에는 (구역의 개수)/2 값 N과 특수 소대원의 수 W가 주어진다. (1 ≤ N ≤ 10000, 1 ≤ W ≤ 10000).\n",
    "\n",
    "둘째 줄에는 1~N번째 구역에 배치된 적의 수가 주어지고, 셋째 줄에는 N+1 ~ 2N번째 구역에 배치된 적의 수가 공백으로 구분되어 주어진다. (1 ≤ 각 구역에 배치된 최대 적의 수 ≤ 10000) 단, 한 구역에서 특수 소대원의 수보다 많은 적이 배치된 구역은 존재하지 않는다. (따라서, 각 구역에 배치된 최대 적의 수 ≤ W)"
   ]
  },
  {
   "cell_type": "code",
   "execution_count": null,
   "metadata": {},
   "outputs": [],
   "source": [
    "각 테스트케이스에 대해서 한 줄에 하나씩 원타곤의 모든 구역을 커버하기 위해 침투 시켜야 할 특수 소대의 최소 개수를 출력하시오."
   ]
  },
  {
   "cell_type": "code",
   "execution_count": null,
   "metadata": {},
   "outputs": [],
   "source": [
    "1\n",
    "8 100\n",
    "70 60 55 43 57 60 44 50\n",
    "58 40 47 90 45 52 80 40"
   ]
  },
  {
   "cell_type": "code",
   "execution_count": null,
   "metadata": {},
   "outputs": [],
   "source": [
    "11"
   ]
  },
  {
   "cell_type": "code",
   "execution_count": 12,
   "metadata": {},
   "outputs": [
    {
     "name": "stdout",
     "output_type": "stream",
     "text": [
      "1\n",
      "8 100\n",
      "70 60 55 43 57 60 44 50 58 40 47 90 45 52 80 40\n"
     ]
    }
   ],
   "source": [
    "#솔루션 1\n",
    "\n",
    "T = int(input())\n",
    "\n",
    "for _ in range(T):\n",
    "    N, W = map(int, input().split())\n",
    "    enemies = dict(enumerate(map(int, input().split())))\n",
    "    for area in enemies:\n",
    "        "
   ]
  },
  {
   "cell_type": "code",
   "execution_count": 13,
   "metadata": {},
   "outputs": [
    {
     "data": {
      "text/plain": [
       "{0: 70,\n",
       " 1: 60,\n",
       " 2: 55,\n",
       " 3: 43,\n",
       " 4: 57,\n",
       " 5: 60,\n",
       " 6: 44,\n",
       " 7: 50,\n",
       " 8: 58,\n",
       " 9: 40,\n",
       " 10: 47,\n",
       " 11: 90,\n",
       " 12: 45,\n",
       " 13: 52,\n",
       " 14: 80,\n",
       " 15: 40}"
      ]
     },
     "execution_count": 13,
     "metadata": {},
     "output_type": "execute_result"
    }
   ],
   "source": [
    "enemies"
   ]
  },
  {
   "cell_type": "code",
   "execution_count": 2,
   "metadata": {},
   "outputs": [
    {
     "data": {
      "text/plain": [
       "8"
      ]
     },
     "execution_count": 2,
     "metadata": {},
     "output_type": "execute_result"
    }
   ],
   "source": [
    "N"
   ]
  },
  {
   "cell_type": "code",
   "execution_count": 18,
   "metadata": {},
   "outputs": [],
   "source": [
    "areas = list(range(1, N+1))"
   ]
  },
  {
   "cell_type": "code",
   "execution_count": 19,
   "metadata": {},
   "outputs": [
    {
     "data": {
      "text/plain": [
       "[1, 2, 3, 4, 5, 6, 7, 8]"
      ]
     },
     "execution_count": 19,
     "metadata": {},
     "output_type": "execute_result"
    }
   ],
   "source": [
    "areas"
   ]
  },
  {
   "cell_type": "code",
   "execution_count": 20,
   "metadata": {},
   "outputs": [],
   "source": [
    "num = 1\n",
    "index = areas.index(num)\n",
    "nums = [num, areas[index+1], areas[(index+7)%8], num+8]"
   ]
  },
  {
   "cell_type": "code",
   "execution_count": 21,
   "metadata": {},
   "outputs": [
    {
     "data": {
      "text/plain": [
       "[1, 2, 8, 9]"
      ]
     },
     "execution_count": 21,
     "metadata": {},
     "output_type": "execute_result"
    }
   ],
   "source": [
    "nums"
   ]
  },
  {
   "cell_type": "code",
   "execution_count": 27,
   "metadata": {},
   "outputs": [
    {
     "name": "stdout",
     "output_type": "stream",
     "text": [
      "{1: [2, 8, 9]}\n",
      "{2: [3, 1, 10]}\n",
      "{3: [4, 2, 11]}\n",
      "{4: [5, 3, 12]}\n",
      "{5: [6, 4, 13]}\n",
      "{6: [7, 5, 14]}\n",
      "{7: [8, 6, 15]}\n",
      "{8: [1, 7, 16]}\n"
     ]
    }
   ],
   "source": [
    "for num in areas:\n",
    "    index = areas.index(num)\n",
    "    nums = {num: [areas[(index+1)%8], areas[(index+7)%8], num+8]}\n",
    "    print(nums)"
   ]
  },
  {
   "cell_type": "code",
   "execution_count": 30,
   "metadata": {},
   "outputs": [],
   "source": [
    "nears = {num: [areas[(areas.index(num)+1)%8], areas[(areas.index(num)+7)%8], num+8] for num in areas}"
   ]
  },
  {
   "cell_type": "code",
   "execution_count": 31,
   "metadata": {},
   "outputs": [
    {
     "data": {
      "text/plain": [
       "{1: [2, 8, 9],\n",
       " 2: [3, 1, 10],\n",
       " 3: [4, 2, 11],\n",
       " 4: [5, 3, 12],\n",
       " 5: [6, 4, 13],\n",
       " 6: [7, 5, 14],\n",
       " 7: [8, 6, 15],\n",
       " 8: [1, 7, 16]}"
      ]
     },
     "execution_count": 31,
     "metadata": {},
     "output_type": "execute_result"
    }
   ],
   "source": [
    "nears"
   ]
  },
  {
   "cell_type": "code",
   "execution_count": 33,
   "metadata": {},
   "outputs": [],
   "source": [
    "inner_areas = list(range(1, N+1))"
   ]
  },
  {
   "cell_type": "code",
   "execution_count": 35,
   "metadata": {},
   "outputs": [],
   "source": [
    "outer_areas = list(range(N+1, 2*N+1))"
   ]
  },
  {
   "cell_type": "code",
   "execution_count": 36,
   "metadata": {},
   "outputs": [
    {
     "data": {
      "text/plain": [
       "[1, 2, 3, 4, 5, 6, 7, 8]"
      ]
     },
     "execution_count": 36,
     "metadata": {},
     "output_type": "execute_result"
    }
   ],
   "source": [
    "inner_areas"
   ]
  },
  {
   "cell_type": "code",
   "execution_count": 37,
   "metadata": {},
   "outputs": [
    {
     "data": {
      "text/plain": [
       "[9, 10, 11, 12, 13, 14, 15, 16]"
      ]
     },
     "execution_count": 37,
     "metadata": {},
     "output_type": "execute_result"
    }
   ],
   "source": [
    "outer_areas"
   ]
  },
  {
   "cell_type": "code",
   "execution_count": 39,
   "metadata": {},
   "outputs": [],
   "source": [
    "inner = {num: [inner_areas[(inner_areas.index(num)+1)%8], inner_areas[(inner_areas.index(num)+7)%8], num+8] for num in inner_areas}"
   ]
  },
  {
   "cell_type": "code",
   "execution_count": 40,
   "metadata": {},
   "outputs": [
    {
     "data": {
      "text/plain": [
       "{1: [2, 8, 9],\n",
       " 2: [3, 1, 10],\n",
       " 3: [4, 2, 11],\n",
       " 4: [5, 3, 12],\n",
       " 5: [6, 4, 13],\n",
       " 6: [7, 5, 14],\n",
       " 7: [8, 6, 15],\n",
       " 8: [1, 7, 16]}"
      ]
     },
     "execution_count": 40,
     "metadata": {},
     "output_type": "execute_result"
    }
   ],
   "source": [
    "inner"
   ]
  },
  {
   "cell_type": "code",
   "execution_count": 41,
   "metadata": {},
   "outputs": [],
   "source": [
    "outer = {num: [outer_areas[(outer_areas.index(num)+1)%8], outer_areas[(outer_areas.index(num)+7)%8], num-8] for num in outer_areas}"
   ]
  },
  {
   "cell_type": "code",
   "execution_count": 42,
   "metadata": {},
   "outputs": [
    {
     "data": {
      "text/plain": [
       "{9: [10, 16, 1],\n",
       " 10: [11, 9, 2],\n",
       " 11: [12, 10, 3],\n",
       " 12: [13, 11, 4],\n",
       " 13: [14, 12, 5],\n",
       " 14: [15, 13, 6],\n",
       " 15: [16, 14, 7],\n",
       " 16: [9, 15, 8]}"
      ]
     },
     "execution_count": 42,
     "metadata": {},
     "output_type": "execute_result"
    }
   ],
   "source": [
    "outer"
   ]
  },
  {
   "cell_type": "code",
   "execution_count": 50,
   "metadata": {},
   "outputs": [],
   "source": [
    "inner.update(outer)"
   ]
  },
  {
   "cell_type": "code",
   "execution_count": 51,
   "metadata": {},
   "outputs": [
    {
     "data": {
      "text/plain": [
       "{1: [2, 8, 9],\n",
       " 2: [3, 1, 10],\n",
       " 3: [4, 2, 11],\n",
       " 4: [5, 3, 12],\n",
       " 5: [6, 4, 13],\n",
       " 6: [7, 5, 14],\n",
       " 7: [8, 6, 15],\n",
       " 8: [1, 7, 16],\n",
       " 9: [10, 16, 1],\n",
       " 10: [11, 9, 2],\n",
       " 11: [12, 10, 3],\n",
       " 12: [13, 11, 4],\n",
       " 13: [14, 12, 5],\n",
       " 14: [15, 13, 6],\n",
       " 15: [16, 14, 7],\n",
       " 16: [9, 15, 8]}"
      ]
     },
     "execution_count": 51,
     "metadata": {},
     "output_type": "execute_result"
    }
   ],
   "source": [
    "inner"
   ]
  },
  {
   "cell_type": "code",
   "execution_count": 56,
   "metadata": {},
   "outputs": [
    {
     "name": "stdout",
     "output_type": "stream",
     "text": [
      "[False, False, False]\n",
      "[False, False, True]\n",
      "[True, False, False]\n",
      "[True, True, False]\n",
      "[False, True, False]\n",
      "[False, False, False]\n",
      "[True, False, False]\n",
      "[False, True, True]\n",
      "[True, True, False]\n",
      "[True, True, True]\n",
      "[False, True, False]\n",
      "[False, False, False]\n",
      "[True, False, False]\n",
      "[False, True, False]\n",
      "[False, False, False]\n",
      "[True, False, True]\n"
     ]
    }
   ],
   "source": [
    "count = 0\n",
    "for area in inner:\n",
    "    my_enemies = enemies[area-1]\n",
    "    dispatchable = [True if my_enemies + enemies[joint-1] <= W else False for joint in inner[area]]\n",
    "    if dispatchable.count(True) == 1:\n",
    "        count += 1\n",
    "        inner.pop(area)\n",
    "    print(dispatchable)"
   ]
  },
  {
   "cell_type": "code",
   "execution_count": 53,
   "metadata": {},
   "outputs": [
    {
     "data": {
      "text/plain": [
       "100"
      ]
     },
     "execution_count": 53,
     "metadata": {},
     "output_type": "execute_result"
    }
   ],
   "source": [
    "W"
   ]
  },
  {
   "cell_type": "code",
   "execution_count": null,
   "metadata": {},
   "outputs": [],
   "source": []
  }
 ],
 "metadata": {
  "kernelspec": {
   "display_name": "Python 3",
   "language": "python",
   "name": "python3"
  },
  "language_info": {
   "codemirror_mode": {
    "name": "ipython",
    "version": 3
   },
   "file_extension": ".py",
   "mimetype": "text/x-python",
   "name": "python",
   "nbconvert_exporter": "python",
   "pygments_lexer": "ipython3",
   "version": "3.7.5"
  },
  "varInspector": {
   "cols": {
    "lenName": 16,
    "lenType": 16,
    "lenVar": 40
   },
   "kernels_config": {
    "python": {
     "delete_cmd_postfix": "",
     "delete_cmd_prefix": "del ",
     "library": "var_list.py",
     "varRefreshCmd": "print(var_dic_list())"
    },
    "r": {
     "delete_cmd_postfix": ") ",
     "delete_cmd_prefix": "rm(",
     "library": "var_list.r",
     "varRefreshCmd": "cat(var_dic_list()) "
    }
   },
   "types_to_exclude": [
    "module",
    "function",
    "builtin_function_or_method",
    "instance",
    "_Feature"
   ],
   "window_display": false
  }
 },
 "nbformat": 4,
 "nbformat_minor": 2
}
