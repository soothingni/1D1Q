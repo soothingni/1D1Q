{
 "cells": [
  {
   "cell_type": "markdown",
   "metadata": {},
   "source": [
    "백준 #1009\n",
    "\n",
    "https://www.acmicpc.net/problem/1009"
   ]
  },
  {
   "cell_type": "code",
   "execution_count": null,
   "metadata": {},
   "outputs": [],
   "source": [
    "5\n",
    "1 6\n",
    "3 7\n",
    "6 2\n",
    "7 100\n",
    "9 635"
   ]
  },
  {
   "cell_type": "code",
   "execution_count": null,
   "metadata": {},
   "outputs": [],
   "source": [
    "1\n",
    "7\n",
    "6\n",
    "1\n",
    "9"
   ]
  },
  {
   "cell_type": "code",
   "execution_count": 5,
   "metadata": {},
   "outputs": [
    {
     "name": "stdout",
     "output_type": "stream",
     "text": [
      "5\n",
      "1 6\n",
      "1\n",
      "3 7\n",
      "7\n",
      "6 2\n",
      "6\n",
      "7 100\n",
      "1\n",
      "9 635\n",
      "9\n"
     ]
    }
   ],
   "source": [
    "#솔루션 1: 시간초과\n",
    "\n",
    "T = int(input())\n",
    "for _ in range(T):\n",
    "    a, b = map(int, input().split())\n",
    "    num = a**b\n",
    "    print(num % 10)"
   ]
  },
  {
   "cell_type": "markdown",
   "metadata": {},
   "source": [
    "시간복잡도라는 것을 제대로 공부해봐야겠다.\n",
    "\n",
    "# 시간복잡도 잡기"
   ]
  },
  {
   "cell_type": "code",
   "execution_count": 7,
   "metadata": {},
   "outputs": [
    {
     "name": "stdout",
     "output_type": "stream",
     "text": [
      "5\n",
      "1 6\n",
      "1\n",
      "3 7\n",
      "7\n",
      "6 2\n",
      "6\n",
      "7 100\n",
      "1\n",
      "9 635\n",
      "9\n"
     ]
    }
   ],
   "source": [
    "#솔루션 2: 끝자리 사전 만들기\n",
    "#결과: 런타임 에러\n",
    "\n",
    "last_digit = {1:[1], 2:[2, 4, 8, 6], 3:[3, 9, 7, 1], 4:[4, 6], 5:[5], 6:[6], 7:[7, 9, 3, 1], 8:[8, 4, 2, 6], 9:[9, 1]}\n",
    "\n",
    "T = int(input())\n",
    "for _ in range(T):\n",
    "    a, b = map(int, input().split())\n",
    "    num_list = last_digit[a]\n",
    "    num = num_list[b%len(num_list)-1]\n",
    "    print(num)"
   ]
  },
  {
   "cell_type": "markdown",
   "metadata": {},
   "source": [
    "런타임 에러 죽이러 가실 분 제발..."
   ]
  },
  {
   "cell_type": "markdown",
   "metadata": {},
   "source": [
    "단서조항을 고려하지 않았다.\n",
    "\n",
    "\n",
    "(1 ≤ a < 100, 1 ≤ b < 1,000,000)"
   ]
  },
  {
   "cell_type": "code",
   "execution_count": 8,
   "metadata": {},
   "outputs": [
    {
     "name": "stdout",
     "output_type": "stream",
     "text": [
      "5\n",
      "1 6\n",
      "1\n",
      "3 7\n",
      "7\n",
      "6 2\n",
      "6\n",
      "7 100\n",
      "1\n",
      "9 635\n",
      "9\n"
     ]
    }
   ],
   "source": [
    "#솔루션 3: \n",
    "#결과: 런타임 에러\n",
    "\n",
    "last_digit = {1:[1], 2:[2, 4, 8, 6], 3:[3, 9, 7, 1], 4:[4, 6], 5:[5], 6:[6], 7:[7, 9, 3, 1], 8:[8, 4, 2, 6], 9:[9, 1]}\n",
    "\n",
    "T = int(input())\n",
    "for _ in range(T):\n",
    "    a, b = map(int, input().split())\n",
    "    a = a % 10\n",
    "    num_list = last_digit[a]\n",
    "    num = num_list[b%len(num_list)-1]\n",
    "    print(num)"
   ]
  },
  {
   "cell_type": "code",
   "execution_count": null,
   "metadata": {},
   "outputs": [],
   "source": [
    "#솔루션 4: 마지막 자리가 0 일때 추가\n",
    "#결과: 틀렸습니다\n",
    "\n",
    "last_digit = {0:[0], 1:[1], 2:[2, 4, 8, 6], 3:[3, 9, 7, 1], 4:[4, 6], 5:[5], 6:[6], 7:[7, 9, 3, 1], 8:[8, 4, 2, 6], 9:[9, 1]}\n",
    "\n",
    "T = int(input())\n",
    "for _ in range(T):\n",
    "    a, b = map(int, input().split())\n",
    "    a = a % 10\n",
    "    num_list = last_digit[a]\n",
    "    num = num_list[b%len(num_list)-1]\n",
    "    print(num)"
   ]
  },
  {
   "cell_type": "markdown",
   "metadata": {},
   "source": [
    "왜 틀렸을까?"
   ]
  },
  {
   "cell_type": "code",
   "execution_count": null,
   "metadata": {},
   "outputs": [],
   "source": [
    "#솔루션 5: 마지막 자리가 0 일때 0이 아니라 10으로 수정\n",
    "#결과: 맞았습니다!\n",
    "\n",
    "last_digit = {0:[10], 1:[1], 2:[2, 4, 8, 6], 3:[3, 9, 7, 1], 4:[4, 6], 5:[5], 6:[6], 7:[7, 9, 3, 1], 8:[8, 4, 2, 6], 9:[9, 1]}\n",
    "\n",
    "T = int(input())\n",
    "for _ in range(T):\n",
    "    a, b = map(int, input().split())\n",
    "    a = a % 10\n",
    "    num_list = last_digit[a]\n",
    "    num = num_list[b%len(num_list)-1]\n",
    "    print(num)"
   ]
  }
 ],
 "metadata": {
  "kernelspec": {
   "display_name": "Python 3",
   "language": "python",
   "name": "python3"
  },
  "language_info": {
   "codemirror_mode": {
    "name": "ipython",
    "version": 3
   },
   "file_extension": ".py",
   "mimetype": "text/x-python",
   "name": "python",
   "nbconvert_exporter": "python",
   "pygments_lexer": "ipython3",
   "version": "3.7.5"
  }
 },
 "nbformat": 4,
 "nbformat_minor": 2
}
