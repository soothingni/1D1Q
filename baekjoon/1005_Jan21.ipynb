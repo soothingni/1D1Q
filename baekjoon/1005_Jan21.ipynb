{
 "cells": [
  {
   "cell_type": "markdown",
   "metadata": {},
   "source": [
    "백준 #1005\n",
    "\n",
    "https://www.acmicpc.net/problem/1005"
   ]
  },
  {
   "cell_type": "code",
   "execution_count": 42,
   "metadata": {
    "ExecuteTime": {
     "end_time": "2020-01-28T00:03:26.708441Z",
     "start_time": "2020-01-28T00:03:09.477736Z"
    }
   },
   "outputs": [
    {
     "name": "stdout",
     "output_type": "stream",
     "text": [
      "2\n",
      "4 4\n",
      "10 1 100 10\n",
      "1 2\n",
      "1 3\n",
      "2 4\n",
      "3 4\n",
      "4\n",
      "120\n",
      "8 8\n",
      "10 20 1 5 8 7 1 43\n",
      "1 2\n",
      "1 3\n",
      "2 4\n",
      "2 5\n",
      "3 6\n",
      "5 7\n",
      "6 7\n",
      "7 8\n",
      "7\n",
      "39\n"
     ]
    }
   ],
   "source": [
    "#솔루션 1: 시간초과...; 시간 제한 1초였당..\n",
    "\n",
    "T = int(input())\n",
    "\n",
    "for _ in range(T):\n",
    "    N, K = map(int, input().split())\n",
    "    D = map(int, input().split())\n",
    "    time_dict = dict([(i+1, v) for i, v in enumerate(D)])\n",
    "    sequence_list = []\n",
    "    for _ in range(K):\n",
    "        a, b = map(int, input().split())\n",
    "        sequence_list.append((a, b))\n",
    "        for s in sequence_list:\n",
    "            if a == s[-1]:\n",
    "                sequence_list.remove(sequence_list[-1])\n",
    "                sequence_list.append(tuple([*s, b]))\n",
    "    W = int(input())\n",
    "    selected = [x for x in sequence_list if x[-1] == W]\n",
    "    min_time = max([sum([time_dict[a] for a in x]) for x in selected])\n",
    "    print(min_time)"
   ]
  },
  {
   "cell_type": "markdown",
   "metadata": {},
   "source": [
    "## `enumerate`\n",
    "- 함수의 인자로 시퀀스형 데이터를 넘겨주면 인덱스를 앞에 붙여서 튜플 형태로 e.g. (i, v) 리턴함"
   ]
  },
  {
   "cell_type": "code",
   "execution_count": 1,
   "metadata": {
    "ExecuteTime": {
     "end_time": "2020-01-27T23:52:37.846736Z",
     "start_time": "2020-01-27T23:52:37.842805Z"
    }
   },
   "outputs": [
    {
     "name": "stdout",
     "output_type": "stream",
     "text": [
      "(0, 10)\n",
      "(1, 20)\n",
      "(2, 30)\n",
      "(3, 40)\n",
      "(4, 50)\n"
     ]
    }
   ],
   "source": [
    "t = [10, 20, 30, 40, 50]\n",
    "\n",
    "for p in enumerate(t):\n",
    "    print(p)"
   ]
  },
  {
   "cell_type": "code",
   "execution_count": 2,
   "metadata": {
    "ExecuteTime": {
     "end_time": "2020-01-27T23:53:14.178174Z",
     "start_time": "2020-01-27T23:53:14.175073Z"
    }
   },
   "outputs": [
    {
     "name": "stdout",
     "output_type": "stream",
     "text": [
      "index 0: 10\n",
      "index 1: 20\n",
      "index 2: 30\n",
      "index 3: 40\n",
      "index 4: 50\n"
     ]
    }
   ],
   "source": [
    "for i, v in enumerate(t):\n",
    "    print(f'index {i}: {v}')"
   ]
  },
  {
   "cell_type": "code",
   "execution_count": 45,
   "metadata": {},
   "outputs": [
    {
     "name": "stdout",
     "output_type": "stream",
     "text": [
      "2\n",
      "4 4\n",
      "10 1 100 10\n",
      "1 2\n",
      "1 3\n",
      "2 4\n",
      "3 4\n",
      "4\n",
      "120\n",
      "8 8\n",
      "10 20 1 5 8 7 1 43\n",
      "1 2\n",
      "1 3\n",
      "2 4\n",
      "2 5\n",
      "3 6\n",
      "5 7\n",
      "6 7\n",
      "7 8\n",
      "7\n",
      "39\n"
     ]
    }
   ],
   "source": [
    "#솔루션 2: 시간초과...\n",
    "\n",
    "T = int(input())\n",
    "\n",
    "for _ in range(T):\n",
    "    N, K = map(int, input().split())\n",
    "    D = list(map(int, input().split()))   #time_dict 변수를 따로 생성하지 않고 그냥 리스트에서 인덱싱 하는 방식으로...\n",
    "    sequence_list = []\n",
    "    for _ in range(K):\n",
    "        a, b = map(int, input().split())\n",
    "        sequence_list.append((a, b))\n",
    "        for s in sequence_list:\n",
    "            if a == s[-1]:\n",
    "                sequence_list.remove(sequence_list[-1])\n",
    "                sequence_list.append(tuple([*s, b]))\n",
    "    W = int(input())\n",
    "    selected = [x for x in sequence_list if x[-1] ==W]\n",
    "    min_time = max([sum([D[a-1] for a in x]) for x in selected])\n",
    "    print(min_time)"
   ]
  },
  {
   "cell_type": "code",
   "execution_count": 47,
   "metadata": {},
   "outputs": [
    {
     "name": "stdout",
     "output_type": "stream",
     "text": [
      "2\n",
      "4 4\n",
      "10 1 100 10\n",
      "1 2\n",
      "1 3\n",
      "2 4\n",
      "3 4\n",
      "4\n",
      "120\n",
      "8 8\n",
      "10 20 1 5 8 7 1 43\n",
      "1 2\n",
      "1 3\n",
      "2 4\n",
      "2 5\n",
      "3 6\n",
      "5 7\n",
      "6 7\n",
      "7 8\n",
      "7\n",
      "39\n"
     ]
    }
   ],
   "source": [
    "#솔루션 3: 시간초과~!@~!~~@#@!~#!~#~!@!#\n",
    "\n",
    "T = int(input())\n",
    "\n",
    "for _ in range(T):\n",
    "    N, K = map(int, input().split())\n",
    "    D = list(map(int, input().split())) \n",
    "    sequence_list = []\n",
    "    for _ in range(K):\n",
    "        a, b = map(int, input().split())\n",
    "        sequence_list.append((a, b))\n",
    "        for s in sequence_list:\n",
    "            if a == s[-1]:\n",
    "                sequence_list.remove(sequence_list[-1])\n",
    "                sequence_list.append(tuple([*s, b]))\n",
    "    W = int(input())\n",
    "    min_time = max([sum([D[a-1] for a in x]) for x in sequence_list if x[-1] == W])    #selected 변수 생략\n",
    "    print(min_time)"
   ]
  },
  {
   "cell_type": "code",
   "execution_count": 48,
   "metadata": {
    "scrolled": true
   },
   "outputs": [
    {
     "name": "stdout",
     "output_type": "stream",
     "text": [
      "2\n",
      "4 4\n",
      "10 1 100 10\n",
      "1 2\n",
      "1 3\n",
      "2 4\n",
      "3 4\n",
      "4\n",
      "120\n",
      "8 8\n",
      "10 20 1 5 8 7 1 43\n",
      "1 2\n",
      "1 3\n",
      "2 4\n",
      "2 5\n",
      "3 6\n",
      "5 7\n",
      "6 7\n",
      "7 8\n",
      "7\n",
      "39\n"
     ]
    }
   ],
   "source": [
    "#솔루션 4: \n",
    "\n",
    "T = int(input())\n",
    "\n",
    "for _ in range(T):\n",
    "    N, K = [int(x) for x in input().split()]   #input을 sys.stdin.readline()으로!\n",
    "    D = [int(x) for x in input().split()]\n",
    "    sequence_list = []\n",
    "    for _ in range(K):\n",
    "        a, b = [int(x) for x in input().split()]\n",
    "        sequence_list.append((a, b))\n",
    "        for s in sequence_list:\n",
    "            if a == s[-1]:\n",
    "                sequence_list.remove(sequence_list[-1])\n",
    "                sequence_list.append(tuple([*s, b]))\n",
    "    W = int(input())\n",
    "    min_time = max([sum([D[a-1] for a in x]) for x in sequence_list if x[-1] == W]) \n",
    "    print(min_time)"
   ]
  },
  {
   "cell_type": "code",
   "execution_count": 56,
   "metadata": {},
   "outputs": [
    {
     "data": {
      "text/plain": [
       "[(1, 2), (1, 3), (2, 4), (3, 4)]"
      ]
     },
     "execution_count": 56,
     "metadata": {},
     "output_type": "execute_result"
    }
   ],
   "source": [
    "sequence_list"
   ]
  },
  {
   "cell_type": "code",
   "execution_count": 2,
   "metadata": {
    "ExecuteTime": {
     "end_time": "2020-01-29T23:57:12.139973Z",
     "start_time": "2020-01-29T23:57:12.079902Z"
    }
   },
   "outputs": [
    {
     "ename": "ValueError",
     "evalue": "invalid literal for int() with base 10: ''",
     "output_type": "error",
     "traceback": [
      "\u001b[1;31m---------------------------------------------------------------------------\u001b[0m",
      "\u001b[1;31mValueError\u001b[0m                                Traceback (most recent call last)",
      "\u001b[1;32m<ipython-input-2-768a10d5cb0e>\u001b[0m in \u001b[0;36m<module>\u001b[1;34m\u001b[0m\n\u001b[0;32m      2\u001b[0m \u001b[1;32mimport\u001b[0m \u001b[0msys\u001b[0m\u001b[1;33m\u001b[0m\u001b[1;33m\u001b[0m\u001b[0m\n\u001b[0;32m      3\u001b[0m \u001b[1;33m\u001b[0m\u001b[0m\n\u001b[1;32m----> 4\u001b[1;33m \u001b[0mT\u001b[0m \u001b[1;33m=\u001b[0m \u001b[0mint\u001b[0m\u001b[1;33m(\u001b[0m\u001b[0msys\u001b[0m\u001b[1;33m.\u001b[0m\u001b[0mstdin\u001b[0m\u001b[1;33m.\u001b[0m\u001b[0mreadline\u001b[0m\u001b[1;33m(\u001b[0m\u001b[1;33m)\u001b[0m\u001b[1;33m.\u001b[0m\u001b[0mrstrip\u001b[0m\u001b[1;33m(\u001b[0m\u001b[1;33m)\u001b[0m\u001b[1;33m)\u001b[0m\u001b[1;33m\u001b[0m\u001b[1;33m\u001b[0m\u001b[0m\n\u001b[0m\u001b[0;32m      5\u001b[0m \u001b[1;33m\u001b[0m\u001b[0m\n\u001b[0;32m      6\u001b[0m \u001b[1;32mfor\u001b[0m \u001b[0m_\u001b[0m \u001b[1;32min\u001b[0m \u001b[0mrange\u001b[0m\u001b[1;33m(\u001b[0m\u001b[0mT\u001b[0m\u001b[1;33m)\u001b[0m\u001b[1;33m:\u001b[0m\u001b[1;33m\u001b[0m\u001b[1;33m\u001b[0m\u001b[0m\n",
      "\u001b[1;31mValueError\u001b[0m: invalid literal for int() with base 10: ''"
     ]
    }
   ],
   "source": [
    "#솔루션5: 또 시간초과다..~!$#@^$*^#%@$!#@~#^&*&%$#@#$%^&*()\n",
    "import sys\n",
    "\n",
    "T = int(sys.stdin.readline().rstrip())\n",
    "\n",
    "for _ in range(T):\n",
    "    N, K = [int(x) for x in sys.stdin.readline().split()] \n",
    "    D = [int(x) for x in input().split()]\n",
    "    sequence_list = []\n",
    "    for _ in range(K):\n",
    "        a, b = [int(x) for x in sys.stdin.readline().split()]\n",
    "        sequence_list.append((a, b))\n",
    "        for s in sequence_list:\n",
    "            if a == s[-1]:\n",
    "                sequence_list.remove(sequence_list[-1])\n",
    "                sequence_list.append(tuple([*s, b]))\n",
    "    W = int(sys.stdin.readline().rstrip())\n",
    "    min_time = max([sum([D[a-1] for a in x]) for x in sequence_list if x[-1] == W]) \n",
    "    print(min_time)"
   ]
  },
  {
   "cell_type": "markdown",
   "metadata": {},
   "source": [
    "## `sys.stdin.readline()`\n",
    "\n",
    "# *중요: jupyter는 지원 안함\n",
    "(파이참에서 테스트)\n",
    "\n",
    "- `input()`함수보다 속도가 빠름\n",
    "    - 이유: 입출력 스트림에 대한 문제 같습니다.\n",
    "\n",
    "파이썬이 동적변수라지만 변수의 형태로 저장하기 위해서 input() 메소드 내에서 가공을 할텐데\n",
    "\n",
    "raw_input() 은 문자열을 반환하고 input() 은 raw_input() 을 evaluate한 결과를 반환합니다.\n",
    "\n",
    "sys.stdin.readline() 은 한 줄의 문자열를 반환하는데 이것을 int() 로 묶어서 정수로 변환하는게 더 빠른가봅니다.\n",
    "\n",
    "다른 언어에도 똑같은 원리가 적용되지요.\n",
    "\n",
    "Java에서는 Scanner 보다 Buffered~ 가 더 처리가 가볍고, C++에서는 cout 보다 printf 를 이용하는게 시간적인 측면에서 효율적이라고 알고있습니다.\n",
    "\n",
    "C++은 함수오버로딩도 있고 해서 훨씬 오래 걸리는것 같지만요..\n",
    "\n",
    "\n",
    "\n",
    "- 다만 맨 끝의 개행문자까지 같이 입력받기 때문에 문자열을 저장하고 싶을 경우 `.rstrip()`을 추가로 해 주는 것이 좋다.\n",
    "    - `int(sys.stdin.readline().rstrip())`\n",
    "  \n",
    "  \n",
    "- 여러개를 입력받을 경우 `.split()`을 추가해주면 된다. (`input()`함수와 똑같음)\n",
    "\n",
    "\n",
    "\n",
    "출처:\n",
    "\n",
    "- https://www.acmicpc.net/board/view/855\n",
    "- https://jeongmin-lee.tistory.com/40\n"
   ]
  },
  {
   "cell_type": "code",
   "execution_count": 6,
   "metadata": {
    "ExecuteTime": {
     "end_time": "2020-01-30T02:45:00.393138Z",
     "start_time": "2020-01-30T02:45:00.389171Z"
    }
   },
   "outputs": [],
   "source": [
    "#솔루션 6: 순서 입력받으면서 바로바로 시간 계산하는 방식\n",
    "#결과: 런타임 에러 어떻게 해결하라는 거지ㅋㅋㅋㅋㅋㅋㅋㅋㅋㅋㅋㅋㅋㅋㅋㅋㅋㅋㅋㅋㅋㅋㅋㅋㅋㅋㅋ\n",
    "\n",
    "import sys\n",
    "T = int(sys.stdin.readline().rstrip())\n",
    "for _ in range(T):\n",
    "    N, K = [int(x) for x in sys.stdin.readline().split()]\n",
    "    D = [int(x) for x in sys.stdin.readline().split()]   #건물별 소요시간이 저장된 리스트\n",
    "    time_dict = {1: D[0]}\n",
    "    for _ in range(K):\n",
    "        a, b = [int(x) for x in sys.stdin.readline().split()]\n",
    "        temp = time_dict[a] + D[b - 1]\n",
    "        if b in time_dict and temp < time_dict[b]: continue\n",
    "        else: time_dict[b] = temp\n",
    "    W = int(sys.stdin.readline().rstrip())\n",
    "    print(time_dict[W])"
   ]
  },
  {
   "cell_type": "markdown",
   "metadata": {},
   "source": []
  },
  {
   "cell_type": "code",
   "execution_count": null,
   "metadata": {},
   "outputs": [],
   "source": [
    "#솔루션 7: 입력 시 개행문자 고려해서 sys.stdin.readline()에 모두 .rstrip() 추가했다.\n",
    "#결과: 런타임 에러,,,,^^,,,런타임 에러란 몰가,,,,,\n",
    "\n",
    "import sys\n",
    "T = int(sys.stdin.readline().rstrip())\n",
    "for _ in range(T):\n",
    "    N, K = [int(x) for x in sys.stdin.readline().rstrip().split()]\n",
    "    D = [int(x) for x in sys.stdin.readline().rstrip().split()]   #건물별 소요시간이 저장된 리스트\n",
    "    time_dict = {1: D[0]}\n",
    "    for _ in range(K):\n",
    "        a, b = [int(x) for x in sys.stdin.readline().rstrip().split()]\n",
    "        temp = time_dict[a] + D[b - 1]\n",
    "        if b in time_dict and temp < time_dict[b]: continue\n",
    "        else: time_dict[b] = temp\n",
    "    W = int(sys.stdin.readline().rstrip())\n",
    "    print(time_dict[W])\n"
   ]
  },
  {
   "cell_type": "markdown",
   "metadata": {},
   "source": [
    "## 런타임 에러(Runtime Error)\n",
    "\n",
    "런타임 오류의 발생 원인은 매우 다양하지만 피상적인 이유는 단 하나입니다.\n",
    "\n",
    "> 프로그램이 동작 중에 어떤 이유로 **잘못된 데이터**를 가지게 되어 잘못된 처리를 진행하려 할 때 런타임 오류가 발생하는 것입니다.\n",
    "\n",
    "이 때 프로그램 자체적으로 조정하거나, 혹은 OS가 끼어들어 프로그램을 중단시킵니다. 프로그램이 런타임 오류를 자체적으로 조정했다면 사용자는 여전히 프로그램을 계속 이용 할 수 있을 것입니다. 하지만 OS가 프로그램을 중지시켰다면 더 이상 이용하지 못하고 사용중이던 데이터도 증발하게 됩니다.\n",
    "\n",
    "프로그래머들은 분명히 개발 과정에서 런타임 오류가 발생할 가능성을 통찰하여 오류가 발생해도 잘못된 처리를 하지 않도록하는 코드를 미리 넣어서 사용자에게 자세한 알림창을 띄워 친절하게 알려주지만, 프로그래머들도 신은 아닌 관계로 어쩌다보면 예기치 못한 런타임 오류(unexpected run-time error)가 발생합니다.\n",
    "\n",
    "\n",
    "그러면 그렇게 프로그램이 핸들링하지 못한 예기치 못한 런타임 오류는 어떻게 될까? 그것은 '하수 종말 처리장'을 떠올리면 어떻게 될지 알기 쉽습니다. 핸들링되지 못한 런타임 오류는 OS(혹은 VM)가 최종적으로 처리합니다. OS는 런타임 오류를 최종적으로 핸들링하여 사용자에게 예기치 못한 런타임 오류가 발생하였음을 알린 후 프로그램을 종료시키고 다시 정상적으로 컴퓨터를 운영합니다. 이것이 윈도우에서 종종 보게되는 다음과 같은 장면의 발생 과정입니다.\n",
    "\n",
    "출처: http://www.codesecure.co.kr/home/faq_view.php?srlno=23&kind=\n",
    "\n",
    "\n",
    "\n",
    "1. 배열에 할당된 크기를 넘어서 접근했을 때\n",
    "2. 전역 배열의 크기가 메모리 제한을 초과할 때\n",
    "3. 지역 배열의 크기가 스택 크기 제한을 넘어갈 때\n",
    "4. 0으로 나눌 떄\n",
    "5. 라이브러리에서 예외를 발생시켰을 때\n",
    "6. 재귀 호출이 너무 깊어질 때\n",
    "7. 이미 해제된 메모리를 또 참조할 때\n",
    "8. 프로그램(main 함수)이 0이 아닌 수를 반환했을 때\n",
    "\n",
    "출처: https://www.acmicpc.net/board/view/22980"
   ]
  },
  {
   "cell_type": "code",
   "execution_count": null,
   "metadata": {},
   "outputs": [],
   "source": [
    "#솔루션 8: int()함수 안에도 .strip() 추가해서 .split()후에 혹시 남아있을지 모를 whitespace 제거\n",
    "#결과: 런타임 에러ㅋ\n",
    "\n",
    "import sys\n",
    "T = int(sys.stdin.readline().rstrip())\n",
    "for _ in range(T):\n",
    "    N, K = [int(x.strip()) for x in sys.stdin.readline().rstrip().split()]\n",
    "    D = [int(x.strip()) for x in sys.stdin.readline().rstrip().split()]   #건물별 소요시간이 저장된 리스트\n",
    "    time_dict = {1: D[0]}\n",
    "    for _ in range(K):\n",
    "        a, b = [int(x.strip()) for x in sys.stdin.readline().rstrip().split()]\n",
    "        temp = time_dict[a] + D[b - 1]\n",
    "        if b in time_dict and temp < time_dict[b]: continue\n",
    "        else: time_dict[b] = temp\n",
    "    W = int(sys.stdin.readline().rstrip())\n",
    "    print(time_dict[W])\n"
   ]
  },
  {
   "cell_type": "code",
   "execution_count": null,
   "metadata": {},
   "outputs": [],
   "source": [
    "#솔루션 9: 혹시 몰라서 조건문에 소괄호 추가\n",
    "#결과: 런타임\n",
    "\n",
    "import sys\n",
    "T = int(sys.stdin.readline().rstrip())\n",
    "for _ in range(T):\n",
    "    N, K = [int(x.strip()) for x in sys.stdin.readline().rstrip().split()]\n",
    "    D = [int(x.strip()) for x in sys.stdin.readline().rstrip().split()]   #건물별 소요시간이 저장된 리스트\n",
    "    time_dict = {1: D[0]}\n",
    "    for _ in range(K):\n",
    "        a, b = [int(x.strip()) for x in sys.stdin.readline().rstrip().split()]\n",
    "        temp = time_dict[a] + D[b - 1]\n",
    "        if (b in time_dict) and (temp < time_dict[b]): continue\n",
    "        else: time_dict[b] = temp\n",
    "    W = int(sys.stdin.readline().rstrip())\n",
    "    print(time_dict[W])\n"
   ]
  },
  {
   "cell_type": "code",
   "execution_count": null,
   "metadata": {},
   "outputs": [],
   "source": [
    "#솔루션 10: if문을 all()로 처리했다.\n",
    "#https://stackoverflow.com/questions/181530/styling-multi-line-conditions-in-if-statements 참조함\n",
    "#결과: 런타임\n",
    "\n",
    "import sys\n",
    "T = int(sys.stdin.readline().rstrip())\n",
    "for _ in range(T):\n",
    "    N, K = [int(x.strip()) for x in sys.stdin.readline().rstrip().split()]\n",
    "    D = [int(x.strip()) for x in sys.stdin.readline().rstrip().split()]   #건물별 소요시간이 저장된 리스트\n",
    "    time_dict = {1: D[0]}\n",
    "    for _ in range(K):\n",
    "        a, b = [int(x.strip()) for x in sys.stdin.readline().rstrip().split()]\n",
    "        temp = time_dict[a] + D[b - 1]\n",
    "        if all([b in time_dict and temp < time_dict[b]]): continue\n",
    "        else: time_dict[b] = temp\n",
    "    W = int(sys.stdin.readline().rstrip())\n",
    "    print(time_dict[W])\n"
   ]
  },
  {
   "cell_type": "code",
   "execution_count": null,
   "metadata": {},
   "outputs": [],
   "source": [
    "#솔루션 11: 중첩 if문으로 바꿈 (if문에서 time_dict[b]가 존재하지 않을 때 참조해서 런타임 에러가 나나 싶어서)\n",
    "#결과: ㄾㅇ\n",
    "\n",
    "import sys\n",
    "T = int(sys.stdin.readline().rstrip())\n",
    "for _ in range(T):\n",
    "    N, K = [int(x) for x in sys.stdin.readline().rstrip().split()]\n",
    "    D = [int(x) for x in sys.stdin.readline().rstrip().split()]   #건물별 소요시간이 저장된 리스트\n",
    "    time_dict = {1: D[0]}\n",
    "    for _ in range(K):\n",
    "        a, b = [int(x) for x in sys.stdin.readline().rstrip().split()]\n",
    "        temp = time_dict[a] + D[b - 1]\n",
    "        if b in time_dict:\n",
    "            if temp < time_dict[b]: continue\n",
    "            else: time_dict[b] = temp\n",
    "        else: time_dict[b] = temp\n",
    "    W = int(sys.stdin.readline().rstrip())\n",
    "    print(time_dict[W])"
   ]
  },
  {
   "cell_type": "code",
   "execution_count": null,
   "metadata": {},
   "outputs": [],
   "source": [
    "#솔루션 12: 딕셔너리 키를 다 str 타입으로 바꿔줌\n",
    "#결과: ㄾㅇ\n",
    "\n",
    "import sys\n",
    "T = int(sys.stdin.readline().rstrip())\n",
    "for _ in range(T):\n",
    "    N, K = [int(x.strip()) for x in sys.stdin.readline().rstrip().split()]\n",
    "    D = [int(x.strip()) for x in sys.stdin.readline().rstrip().split()]   #건물별 소요시간이 저장된 리스트\n",
    "    time_dict = {1: D[0]}\n",
    "    for _ in range(K):\n",
    "        a, b = [int(x.strip()) for x in sys.stdin.readline().rstrip().split()]\n",
    "        temp = time_dict[a] + D[b - 1]\n",
    "        if all([b in time_dict and temp < time_dict[b]]): continue\n",
    "        else: time_dict[b] = temp\n",
    "    W = int(sys.stdin.readline().rstrip())\n",
    "    print(time_dict[W])"
   ]
  },
  {
   "cell_type": "code",
   "execution_count": null,
   "metadata": {},
   "outputs": [],
   "source": [
    "#솔루션 12: 딕셔너리 키를 다 str 타입으로 바꿔줌\n",
    "#결과: ㄾㅇ\n",
    "\n",
    "import sys\n",
    "T = int(sys.stdin.readline().rstrip())\n",
    "for _ in range(T):\n",
    "    N, K = [int(x.strip()) for x in sys.stdin.readline().rstrip().split()]\n",
    "    D = [int(x.strip()) for x in sys.stdin.readline().rstrip().split()]\n",
    "    time_dict = {'1': D[0]}\n",
    "    for _ in range(K):\n",
    "        a, b = [x.strip() for x in sys.stdin.readline().rstrip().split()]\n",
    "        temp = time_dict[a] + D[int(b) - 1]\n",
    "        if b in time_dict and temp < time_dict[b]: continue\n",
    "        else: time_dict[b] = temp\n",
    "    W = sys.stdin.readline().rstrip()\n",
    "    print(time_dict[W])"
   ]
  },
  {
   "cell_type": "code",
   "execution_count": null,
   "metadata": {},
   "outputs": [],
   "source": [
    "#솔루션 13: ㄹㅌㅇ\n",
    "\n",
    "import sys\n",
    "T = int(sys.stdin.readline().rstrip())\n",
    "for _ in range(T):\n",
    "    K = int(sys.stdin.readline().rstrip().split()[-1])\n",
    "    D = [int(x.strip()) for x in sys.stdin.readline().rstrip().split()]\n",
    "    time_dict = {'1': D[0]}\n",
    "    for _ in range(K):\n",
    "        a, b = sys.stdin.readline().rstrip().split()\n",
    "        temp = time_dict[a] + D[int(b) - 1]\n",
    "        if b in time_dict and temp < time_dict[b]: continue\n",
    "        else: time_dict[b] = temp\n",
    "    W = sys.stdin.readline().rstrip()\n",
    "    print(time_dict[W])"
   ]
  },
  {
   "cell_type": "code",
   "execution_count": null,
   "metadata": {},
   "outputs": [],
   "source": [
    "#솔루션 14:\n",
    "\n",
    "import sys\n",
    "T = int(sys.stdin.readline().rstrip())\n",
    "for _ in range(T):\n",
    "    K = int(sys.stdin.readline().rstrip().split()[-1])\n",
    "    D = [int(x.strip()) for x in sys.stdin.readline().rstrip().split()]\n",
    "    time_dict = {'1': D[0]}\n",
    "    for _ in range(K):\n",
    "        a, b = sys.stdin.readline().rstrip().split()\n",
    "        temp = time_dict[a] + D[int(b) - 1]\n",
    "        if b in time_dict and temp < time_dict[b]: continue\n",
    "        else: time_dict[b] = temp\n",
    "    W = sys.stdin.readline().rstrip()\n",
    "    print(time_dict[W])"
   ]
  },
  {
   "cell_type": "code",
   "execution_count": null,
   "metadata": {},
   "outputs": [],
   "source": []
  }
 ],
 "metadata": {
  "kernelspec": {
   "display_name": "Python 3",
   "language": "python",
   "name": "python3"
  },
  "language_info": {
   "codemirror_mode": {
    "name": "ipython",
    "version": 3
   },
   "file_extension": ".py",
   "mimetype": "text/x-python",
   "name": "python",
   "nbconvert_exporter": "python",
   "pygments_lexer": "ipython3",
   "version": "3.7.5"
  },
  "varInspector": {
   "cols": {
    "lenName": 16,
    "lenType": 16,
    "lenVar": 40
   },
   "kernels_config": {
    "python": {
     "delete_cmd_postfix": "",
     "delete_cmd_prefix": "del ",
     "library": "var_list.py",
     "varRefreshCmd": "print(var_dic_list())"
    },
    "r": {
     "delete_cmd_postfix": ") ",
     "delete_cmd_prefix": "rm(",
     "library": "var_list.r",
     "varRefreshCmd": "cat(var_dic_list()) "
    }
   },
   "types_to_exclude": [
    "module",
    "function",
    "builtin_function_or_method",
    "instance",
    "_Feature"
   ],
   "window_display": false
  }
 },
 "nbformat": 4,
 "nbformat_minor": 2
}
