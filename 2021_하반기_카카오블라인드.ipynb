{
 "cells": [
  {
   "cell_type": "markdown",
   "metadata": {},
   "source": [
    "# 1번"
   ]
  },
  {
   "cell_type": "code",
   "execution_count": null,
   "metadata": {},
   "outputs": [],
   "source": [
    "import re\n",
    "\n",
    "def solution(new_id):\n",
    "    #1단계\n",
    "    new_id = new_id.lower()\n",
    "    \n",
    "    #2단계\n",
    "    new_id = re.sub(r'[^a-z0-9._-]','', new_id)\n",
    "    \n",
    "    #3단계\n",
    "    new_id = re.sub(r'[.]+', '.', new_id)\n",
    "    \n",
    "    #4단계\n",
    "    new_id = new_id.strip('.')\n",
    "    \n",
    "    #5단계\n",
    "    if new_id == '':\n",
    "        new_id = 'a'\n",
    "    \n",
    "    #6단계\n",
    "    if len(new_id) >= 16:\n",
    "        new_id = new_id[:15]\n",
    "        new_id = new_id.strip('.')\n",
    "    \n",
    "    #7단계\n",
    "    last_char = new_id[-1]\n",
    "    while len(new_id) <= 2:\n",
    "        new_id += last_char\n",
    "        \n",
    "    return new_id"
   ]
  },
  {
   "cell_type": "markdown",
   "metadata": {},
   "source": [
    "# 2번"
   ]
  },
  {
   "cell_type": "code",
   "execution_count": null,
   "metadata": {},
   "outputs": [],
   "source": [
    "import itertools\n",
    "\n",
    "def alphabetize(string):\n",
    "    return ''.join(sorted(string))\n",
    "\n",
    "def findsubsets(S,m):\n",
    "    subset = set(itertools.combinations(S, m))\n",
    "    subset = [ ''.join(x) for x in subset]\n",
    "    return subset\n",
    "\n",
    "def solution(orders, course):\n",
    "    order_count = dict()\n",
    "    longest_length = { x:0 for x in course}\n",
    "    for order in orders:\n",
    "        for length in course:\n",
    "            if len(order) >= length:\n",
    "                order = alphabetize(order)\n",
    "                candidates = findsubsets(order, length)\n",
    "                for candidate in candidates:\n",
    "                    count = 0\n",
    "                    for another_order in orders:\n",
    "                        if set(candidate).issubset(another_order):\n",
    "                            count += 1\n",
    "                    if count >= 2 and count >= longest_length[length]:\n",
    "                        order_count[candidate] = count\n",
    "                        longest_length[length] = count\n",
    "            else:\n",
    "                continue\n",
    "    for k, v in order_count.copy().items():\n",
    "        if v < longest_length[len(k)]:\n",
    "            del order_count[k]\n",
    "    return sorted(order_count)"
   ]
  },
  {
   "cell_type": "markdown",
   "metadata": {},
   "source": [
    "# 3번\n",
    "\n",
    "--> 시간초과"
   ]
  },
  {
   "cell_type": "code",
   "execution_count": 131,
   "metadata": {},
   "outputs": [],
   "source": [
    "import pandas as pd"
   ]
  },
  {
   "cell_type": "code",
   "execution_count": 130,
   "metadata": {},
   "outputs": [],
   "source": [
    "info = [\"java backend junior pizza 150\",\"python frontend senior chicken 210\",\"python frontend senior chicken 150\",\"cpp backend senior pizza 260\",\"java backend junior chicken 80\",\"python backend senior chicken 50\"]\n",
    "query = [\"java and backend and junior and pizza 100\",\"python and frontend and senior and chicken 200\",\"cpp and - and senior and pizza 250\",\"- and backend and senior and - 150\",\"- and - and - and chicken 100\",\"- and - and - and - 150\"]"
   ]
  },
  {
   "cell_type": "code",
   "execution_count": 224,
   "metadata": {},
   "outputs": [],
   "source": [
    "import pandas as pd\n",
    "\n",
    "def parse_info_into_df(info):\n",
    "    df = pd.DataFrame(columns={\"lang\", \"f/b\", \"j/s\", \"food\", \"score\"})\n",
    "    for applicant in info:\n",
    "        lang, end, year, food, score = applicant.split(' ')\n",
    "        df = df.append({\"lang\": lang, \"f/b\": end, \"j/s\": year, \"food\": food, \"score\": int(score)}, ignore_index=True)\n",
    "    return df\n",
    "\n",
    "\n",
    "def filter_by_condition(df, condition):\n",
    "    lang, end, year, food_and_score = [x.strip(' ') for x in condition.split('and')]\n",
    "    food, score = food_and_score.split(' ')\n",
    "    score = int(score)\n",
    "    cond1 = (df['lang'] == lang) if lang != '-' else True\n",
    "    cond2 = (df['f/b'] == end) if end != '-'else True\n",
    "    cond3 = (df['j/s'] == year) if year != '-'else True\n",
    "    cond4 = (df['food'] == food) if food != '-'else True\n",
    "    cond5 = (df['score'] >= score) if score != '-'else True\n",
    "    \n",
    "    df = df[cond5]\n",
    "    selected = df[cond1 & cond2 & cond3 & cond4]\n",
    "    return len(selected)\n",
    "\n",
    "def solution(info, query):\n",
    "    answer = []\n",
    "    df = parse_info_into_df(info)\n",
    "    for condition in query:\n",
    "        answer.append(filter_by_condition(df, condition))\n",
    "    return answer"
   ]
  },
  {
   "cell_type": "code",
   "execution_count": 222,
   "metadata": {},
   "outputs": [
    {
     "data": {
      "text/plain": [
       "[1, 1, 1, 1, 2, 4]"
      ]
     },
     "execution_count": 222,
     "metadata": {},
     "output_type": "execute_result"
    }
   ],
   "source": [
    "[1,1,1,1,2,4]"
   ]
  },
  {
   "cell_type": "markdown",
   "metadata": {},
   "source": [
    "# 4번"
   ]
  },
  {
   "cell_type": "code",
   "execution_count": 518,
   "metadata": {},
   "outputs": [],
   "source": [
    "from collections import defaultdict \n",
    "from collections import deque\n",
    "\n",
    "class Graph: \n",
    "\n",
    "    def __init__(self, vertices): \n",
    "        # No. of vertices \n",
    "        self.V = vertices \n",
    "        # default dictionary to store graph \n",
    "        self.edges = defaultdict(list)\n",
    "        self.weights = {}\n",
    "        self.paths = set()\n",
    "\n",
    "    # function to add an edge to graph \n",
    "    def add_edge(self, from_node, to_node, weight): \n",
    "        self.edges[from_node].append(to_node)\n",
    "        self.edges[to_node].append(from_node)\n",
    "        self.weights[(from_node, to_node)] = weight\n",
    "        self.weights[(to_node, from_node)] = weight\n",
    "\n",
    "    def get_all_path(self, from_node, to_node, visited, path): \n",
    "        visited[from_node-1]= True\n",
    "        path.append(from_node) \n",
    "        \n",
    "        if from_node == to_node: \n",
    "            self.paths.add(tuple(path))\n",
    "            \n",
    "        else: \n",
    "            for i in self.edges[from_node]: \n",
    "                if visited[i-1]== False: \n",
    "                    self.get_all_path(i, to_node, visited, path) \n",
    "        path.pop() \n",
    "        visited[from_node-1]= False\n",
    "        \n",
    "        return self.paths\n",
    "    \n",
    "\n",
    "def calc_fare(fare, route):\n",
    "    route = deque(route)\n",
    "    temp = route.copy()\n",
    "    total = 0\n",
    "    s = temp.popleft()\n",
    "    while len(temp) >= 1:\n",
    "        d = temp.popleft()\n",
    "        total += fare[(s, d)]\n",
    "        s = d\n",
    "    return total\n",
    "\n",
    "def check_excerpt_in_routes(excerpt, routes):\n",
    "    check = False\n",
    "    matching_routes = []\n",
    "    for route in routes:\n",
    "        route = ''.join(map(str, route))\n",
    "        if excerpt in route:\n",
    "            check = True\n",
    "            matching_routes.append(route)\n",
    "    return check, matching_routes\n",
    "\n",
    "def solution(n, s, a, b, fares):\n",
    "    \n",
    "    graph = Graph(n)\n",
    "    \n",
    "    for fare in fares:\n",
    "        graph.add_edge(*fare)\n",
    "    \n",
    "    a_routes = graph.get_all_path(s, a, [False]*graph.V, [])\n",
    "    graph.paths = set()   #초기화\n",
    "    b_routes = graph.get_all_path(s, b, [False]*graph.V, [])\n",
    "    \n",
    "    possible_fares = []\n",
    "    \n",
    "    for route in a_routes:\n",
    "        route = deque(route)\n",
    "        route1 = route.copy()\n",
    "        total = 0\n",
    "        s = route1.popleft()\n",
    "        excerpt = str(s)\n",
    "        check = True\n",
    "        matching_routes = []\n",
    "        while check == True and len(route1) >= 1:\n",
    "            d = route1.popleft()\n",
    "            excerpt += str(d)\n",
    "            check, new_matching_routes = check_excerpt_in_routes(excerpt, b_routes)\n",
    "            if check == False:\n",
    "                excerpt = excerpt[:-1]\n",
    "            if len(new_matching_routes) != 0:\n",
    "                matching_routes = new_matching_routes\n",
    "            s = d\n",
    "        \n",
    "        if len(matching_routes) != 0:   #합승할 때\n",
    "            #겹치는 부분\n",
    "            total += calc_fare(graph.weights, map(int, tuple(excerpt)))\n",
    "\n",
    "            #겹치지 않는 부분\n",
    "            route = ''.join(map(str, route))\n",
    "            remaining_a_route = tuple(map(int, route.strip(excerpt[:-1])))\n",
    "            if len(remaining_a_route) != 0:\n",
    "                total += calc_fare(graph.weights, remaining_a_route )\n",
    "\n",
    "            selected_b_route = min(matching_routes)\n",
    "            remaining_b_route = tuple(map(int, selected_b_route.strip(excerpt[:-1])))\n",
    "            if len(remaining_b_route) != 0:\n",
    "                total += calc_fare(graph.weights, remaining_b_route )\n",
    "            \n",
    "        else:   #합승하지 않을 때\n",
    "            total += calc_fare(graph.weights, route)\n",
    "            total += min(calc_fare(graph.weights, x) for x in b_routes)\n",
    "    \n",
    "    \n",
    "        possible_fares.append(total)\n",
    "        \n",
    "    return min(possible_fares)"
   ]
  },
  {
   "cell_type": "code",
   "execution_count": 519,
   "metadata": {},
   "outputs": [],
   "source": [
    "n = 6\n",
    "s = 4\n",
    "a = 6\n",
    "b = 2\n",
    "fares = [[4, 1, 10], [3, 5, 24], [5, 6, 2], [3, 1, 41], [5, 1, 24], [4, 6, 50], [2, 4, 66], [2, 3, 22], [1, 6, 25]]"
   ]
  },
  {
   "cell_type": "code",
   "execution_count": 520,
   "metadata": {},
   "outputs": [
    {
     "data": {
      "text/plain": [
       "82"
      ]
     },
     "execution_count": 520,
     "metadata": {},
     "output_type": "execute_result"
    }
   ],
   "source": [
    "solution(n, s, a, b, fares)"
   ]
  },
  {
   "cell_type": "code",
   "execution_count": 521,
   "metadata": {},
   "outputs": [
    {
     "data": {
      "text/plain": [
       "14"
      ]
     },
     "execution_count": 521,
     "metadata": {},
     "output_type": "execute_result"
    }
   ],
   "source": [
    "solution(7, 3, 4, 1, [[5, 7, 9], [4, 6, 4], [3, 6, 1], [3, 2, 3], [2, 1, 6]])"
   ]
  },
  {
   "cell_type": "code",
   "execution_count": 432,
   "metadata": {},
   "outputs": [],
   "source": []
  },
  {
   "cell_type": "code",
   "execution_count": 493,
   "metadata": {},
   "outputs": [],
   "source": []
  },
  {
   "cell_type": "code",
   "execution_count": null,
   "metadata": {},
   "outputs": [],
   "source": []
  }
 ],
 "metadata": {
  "kernelspec": {
   "display_name": "Python 3",
   "language": "python",
   "name": "python3"
  },
  "language_info": {
   "codemirror_mode": {
    "name": "ipython",
    "version": 3
   },
   "file_extension": ".py",
   "mimetype": "text/x-python",
   "name": "python",
   "nbconvert_exporter": "python",
   "pygments_lexer": "ipython3",
   "version": "3.7.5"
  }
 },
 "nbformat": 4,
 "nbformat_minor": 2
}
